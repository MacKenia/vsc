{
 "cells": [
  {
   "cell_type": "markdown",
   "metadata": {},
   "source": [
    "# 从键盘输入三个数，输入其中最大数（三种方法）"
   ]
  },
  {
   "cell_type": "code",
   "execution_count": 6,
   "metadata": {},
   "outputs": [
    {
     "name": "stdout",
     "output_type": "stream",
     "text": [
      "6\n"
     ]
    }
   ],
   "source": [
    "a = int(input(\"num: \"))\n",
    "for i in range(2):\n",
    "    b = int(input(\"num: \"))\n",
    "    a = b if b > a else a\n",
    "print(a)"
   ]
  },
  {
   "cell_type": "markdown",
   "metadata": {},
   "source": [
    "# 奖金发放"
   ]
  },
  {
   "cell_type": "code",
   "execution_count": 8,
   "metadata": {},
   "outputs": [
    {
     "name": "stdout",
     "output_type": "stream",
     "text": [
      "奖金：0.08W\n"
     ]
    }
   ],
   "source": [
    "a = int(input(\"营业额(W)：\"))\n",
    "if a <= 10:\n",
    "    print(f\"奖金：{a*0.1}W\")\n",
    "elif 10 < a <= 20:\n",
    "    print(f\"奖金：{a*0.075}W\")\n",
    "elif 20 < a <= 40:\n",
    "    print(f\"奖金：{a*0.05}W\")\n",
    "elif 40 < a <= 60:\n",
    "    print(f\"奖金：{a*0.03}W\")\n",
    "elif 60 < a <= 100:\n",
    "    print(f\"奖金：{a*0.015}W\")\n",
    "else:\n",
    "    print(f\"奖金：{a*0.01}W\")"
   ]
  },
  {
   "cell_type": "markdown",
   "metadata": {},
   "source": [
    "# 计算BMI"
   ]
  },
  {
   "cell_type": "code",
   "execution_count": 10,
   "metadata": {},
   "outputs": [
    {
     "name": "stdout",
     "output_type": "stream",
     "text": [
      "21.64412070759625\n",
      "正常\n"
     ]
    }
   ],
   "source": [
    "bmi = float(input(\"体重(KG)：\"))\n",
    "bmi = bmi/(float(input(\"身高(cm)：\"))/100)**2\n",
    "\n",
    "print(f\"{bmi}\")\n",
    "\n",
    "if bmi < 18.5:\n",
    "    print(\"偏瘦\")\n",
    "elif 18.5 <= bmi < 24:\n",
    "    print(\"正常\")\n",
    "elif 24 <= bmi < 28:\n",
    "    print(\"偏胖\")\n",
    "elif 28 < bmi:\n",
    "    print(\"肥胖\")"
   ]
  },
  {
   "cell_type": "markdown",
   "metadata": {},
   "source": [
    "# 判断建国十周年，建党十周年，闰年"
   ]
  },
  {
   "cell_type": "code",
   "execution_count": 17,
   "metadata": {},
   "outputs": [
    {
     "name": "stdout",
     "output_type": "stream",
     "text": [
      "是建党整十年\n",
      "2000\n"
     ]
    }
   ],
   "source": [
    "year = int(input())\n",
    "if (year - 1921)%10 == 0:\n",
    "    print(\" 是建党整十年\")\n",
    "if (year - 1949)%10 == 0:\n",
    "    print(\" 是建国整十年\")\n",
    "if year % 400 == 0 or (year % 100 != 0 and year%4 == 0):\n",
    "    print(\"是建党整十年\")\n",
    "print(year)"
   ]
  },
  {
   "cell_type": "markdown",
   "metadata": {},
   "source": [
    "# 奇数的和"
   ]
  },
  {
   "cell_type": "code",
   "execution_count": 1,
   "metadata": {},
   "outputs": [
    {
     "name": "stdout",
     "output_type": "stream",
     "text": [
      "2500\n"
     ]
    }
   ],
   "source": [
    "a = 0\n",
    "for i in range(1, 100, 2):\n",
    "    a += i\n",
    "print(f\"{a}\")"
   ]
  },
  {
   "cell_type": "markdown",
   "metadata": {},
   "source": [
    "# n的阶乘"
   ]
  },
  {
   "cell_type": "code",
   "execution_count": 16,
   "metadata": {},
   "outputs": [
    {
     "name": "stdout",
     "output_type": "stream",
     "text": [
      "479001600\n"
     ]
    }
   ],
   "source": [
    "a = int(input())\n",
    "b = 1\n",
    "for i in range(a,1,-1):\n",
    "    b *= i\n",
    "print(b)"
   ]
  },
  {
   "cell_type": "markdown",
   "metadata": {},
   "source": [
    "# 黄蓉说的数"
   ]
  },
  {
   "cell_type": "code",
   "execution_count": 2,
   "metadata": {},
   "outputs": [
    {
     "name": "stdout",
     "output_type": "stream",
     "text": [
      "23\n"
     ]
    }
   ],
   "source": [
    "a = 0\n",
    "while True:\n",
    "    a += 1\n",
    "    if a%3 == 2 and a%5 == 3 and a%7 == 2:\n",
    "        print(a)\n",
    "        break"
   ]
  },
  {
   "cell_type": "markdown",
   "metadata": {},
   "source": [
    "# 房价计算"
   ]
  },
  {
   "cell_type": "code",
   "execution_count": 3,
   "metadata": {},
   "outputs": [
    {
     "name": "stdout",
     "output_type": "stream",
     "text": [
      "1.市中心\n",
      "2.市外\n",
      "3W\n"
     ]
    }
   ],
   "source": [
    "print(\"1.市中心\\n2.市外\")\n",
    "a = int(input(\"> \"))\n",
    "b = int(input(\"面积(m^2)：\"))\n",
    "if a == 1:\n",
    "    print(f\"{b*3}W\")\n",
    "else:\n",
    "    print(f\"{b*1.5}W\")"
   ]
  },
  {
   "cell_type": "markdown",
   "metadata": {},
   "source": [
    "# 酒驾检测"
   ]
  },
  {
   "cell_type": "code",
   "execution_count": null,
   "metadata": {},
   "outputs": [],
   "source": [
    "a = int(input(\"输入酒精含量(每100ml)：\"))\n",
    "if a < 20:\n",
    "    print(\"不构成饮酒驾驶\")\n",
    "elif 20 <= a < 80:\n",
    "    print(\"构成饮酒驾驶\")\n",
    "elif 80 <= a:\n",
    "    print(\"构成醉酒驾驶\")"
   ]
  },
  {
   "cell_type": "markdown",
   "metadata": {},
   "source": [
    "# 寄件价格计算"
   ]
  },
  {
   "cell_type": "code",
   "execution_count": 4,
   "metadata": {},
   "outputs": [
    {
     "name": "stdout",
     "output_type": "stream",
     "text": [
      "1. 华东地区\n",
      "2. 华南地区\n",
      "3. 华北地区\n",
      "13元\n"
     ]
    }
   ],
   "source": [
    "print(\"1. 华东地区\\n2. 华南地区\\n3. 华北地区\")\n",
    "a = int(input(\"> \"))\n",
    "b = int(input(\"重量(KG)：\"))\n",
    "if b <= 2:\n",
    "    if a == 1:\n",
    "        print(\"13元\")\n",
    "    elif a == 2:\n",
    "        print(\"12元\")\n",
    "    else:\n",
    "        print(\"14元\")\n",
    "else:\n",
    "    if a == 1:\n",
    "        print(f\"{(b-2)*3+13}元\")\n",
    "    elif a == 2:\n",
    "        print(f\"{(b-2)*2+12}元\")\n",
    "    else:\n",
    "        print(f\"{(b-2)*4+14}元\")"
   ]
  },
  {
   "cell_type": "markdown",
   "metadata": {},
   "source": [
    "# 要求多的黄蓉"
   ]
  },
  {
   "cell_type": "code",
   "execution_count": 8,
   "metadata": {},
   "outputs": [
    {
     "name": "stdout",
     "output_type": "stream",
     "text": [
      "23\n"
     ]
    }
   ],
   "source": [
    "a = 0\n",
    "for i in range(1, 101):\n",
    "    a += 1\n",
    "    if a%3 == 2 and a%5 == 3 and a%7 == 2:\n",
    "        print(a)"
   ]
  },
  {
   "cell_type": "markdown",
   "metadata": {},
   "source": [
    "# 天天向上 v1"
   ]
  },
  {
   "cell_type": "code",
   "execution_count": 10,
   "metadata": {},
   "outputs": [
    {
     "name": "stdout",
     "output_type": "stream",
     "text": [
      "每天进步1%7 天后能力值为: 1.0721353521070098,每天退步1%7 天后能力值为: 0.9320653479069899\n",
      "每天进步1%30 天后能力值为: 1.3478489153329063,每天退步1%30 天后能力值为: 0.7397003733882802\n",
      "每天进步1%365 天后能力值为: 37.783434332887275,每天退步1%365 天后能力值为: 0.025517964452291122\n"
     ]
    }
   ],
   "source": [
    "a = b = 1\n",
    "c = 0\n",
    "while True:\n",
    "    c += 1\n",
    "    a *= 1.01\n",
    "    b *= 0.99\n",
    "    if c == 7 or c == 30 or c == 365:\n",
    "        print(f\"每天进步1%{c}天后能力值为: {a},每天退步1%{c} 天后能力值为: {b}\")\n",
    "    if c > 365:\n",
    "        break"
   ]
  },
  {
   "cell_type": "markdown",
   "metadata": {},
   "source": [
    "# 天天向上 v2"
   ]
  },
  {
   "cell_type": "code",
   "execution_count": 12,
   "metadata": {},
   "outputs": [
    {
     "name": "stdout",
     "output_type": "stream",
     "text": [
      "7.171863397539409\n"
     ]
    }
   ],
   "source": [
    "a = 1\n",
    "for i in range(1, 366):\n",
    "    if i % 4 == 0 or i % 5 == 0 or i % 6 == 0 or i % 7 == 0:\n",
    "        a *= 1.01\n",
    "    else:\n",
    "        continue\n",
    "print(f\"{a}\")"
   ]
  }
 ],
 "metadata": {
  "interpreter": {
   "hash": "07d511f23801e1f195b6b7d50b95568849e4efbdffa3c97d2a4b0d67793e102b"
  },
  "kernelspec": {
   "display_name": "Python 3.10.2 64-bit (system)",
   "language": "python",
   "name": "python3"
  },
  "language_info": {
   "codemirror_mode": {
    "name": "ipython",
    "version": 3
   },
   "file_extension": ".py",
   "mimetype": "text/x-python",
   "name": "python",
   "nbconvert_exporter": "python",
   "pygments_lexer": "ipython3",
   "version": "3.10.2"
  },
  "orig_nbformat": 4
 },
 "nbformat": 4,
 "nbformat_minor": 2
}
