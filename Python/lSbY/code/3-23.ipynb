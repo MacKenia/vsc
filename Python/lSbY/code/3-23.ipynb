{
 "cells": [
  {
   "cell_type": "markdown",
   "metadata": {},
   "source": [
    "# 阶乘"
   ]
  },
  {
   "cell_type": "code",
   "execution_count": 1,
   "metadata": {},
   "outputs": [
    {
     "name": "stdout",
     "output_type": "stream",
     "text": [
      "2\n"
     ]
    }
   ],
   "source": [
    "n = input(\"ns\")\n",
    "t = 1\n",
    "for i in range(1, int(n) + 1):\n",
    "    t *= i\n",
    "print(t)"
   ]
  },
  {
   "cell_type": "markdown",
   "metadata": {},
   "source": [
    "# s = 1! + 2! + 3! + ... + n!"
   ]
  },
  {
   "cell_type": "code",
   "execution_count": 8,
   "metadata": {},
   "outputs": [
    {
     "name": "stdout",
     "output_type": "stream",
     "text": [
      "3\n"
     ]
    }
   ],
   "source": [
    "n = int(input(\"ns\"))\n",
    "t = 1\n",
    "sum = 0\n",
    "for i in range(1, n + 1):\n",
    "    t *= i\n",
    "    sum += t\n",
    "print(sum)"
   ]
  },
  {
   "cell_type": "markdown",
   "metadata": {},
   "source": [
    "# 能被67和57整除的数"
   ]
  },
  {
   "cell_type": "code",
   "execution_count": 10,
   "metadata": {},
   "outputs": [
    {
     "name": "stdout",
     "output_type": "stream",
     "text": [
      "68742\n"
     ]
    }
   ],
   "source": [
    "for i in range(60042, 69942, 100):\n",
    "    if not i % 67 and not i % 57:\n",
    "        print(i)"
   ]
  },
  {
   "cell_type": "markdown",
   "metadata": {},
   "source": [
    "# 猴子摘桃"
   ]
  },
  {
   "cell_type": "code",
   "execution_count": 13,
   "metadata": {},
   "outputs": [
    {
     "name": "stdout",
     "output_type": "stream",
     "text": [
      "第2天摘了:5个\n",
      "一共摘了:7个\n"
     ]
    }
   ],
   "source": [
    "n = int(input(\"ns\"))\n",
    "t = 2\n",
    "for i in range(n-1):\n",
    "    print(f\"第{i+2}天摘了:{t*2+1}个\")\n",
    "    t += t * 2 + 1\n",
    "print(f\"一共摘了:{t}个\")"
   ]
  },
  {
   "cell_type": "markdown",
   "metadata": {},
   "source": [
    "# 猴子吃桃子"
   ]
  },
  {
   "cell_type": "code",
   "execution_count": 15,
   "metadata": {},
   "outputs": [
    {
     "name": "stdout",
     "output_type": "stream",
     "text": [
      "1534\n"
     ]
    }
   ],
   "source": [
    "t = 1\n",
    "for i in range(9):\n",
    "    t = (t+1)*2\n",
    "print(f\"十天前有:{t}个桃子\")"
   ]
  },
  {
   "cell_type": "markdown",
   "metadata": {},
   "source": [
    "# 九九乘法表"
   ]
  },
  {
   "cell_type": "code",
   "execution_count": 25,
   "metadata": {},
   "outputs": [
    {
     "name": "stdout",
     "output_type": "stream",
     "text": [
      "1 * 1= 1\t \n",
      "1 * 2= 2\t 2 * 2= 4\t \n",
      "1 * 3= 3\t 2 * 3= 6\t 3 * 3= 9\t \n",
      "1 * 4= 4\t 2 * 4= 8\t 3 * 4=12\t 4 * 4=16\t \n",
      "1 * 5= 5\t 2 * 5=10\t 3 * 5=15\t 4 * 5=20\t 5 * 5=25\t \n",
      "1 * 6= 6\t 2 * 6=12\t 3 * 6=18\t 4 * 6=24\t 5 * 6=30\t 6 * 6=36\t \n",
      "1 * 7= 7\t 2 * 7=14\t 3 * 7=21\t 4 * 7=28\t 5 * 7=35\t 6 * 7=42\t 7 * 7=49\t \n",
      "1 * 8= 8\t 2 * 8=16\t 3 * 8=24\t 4 * 8=32\t 5 * 8=40\t 6 * 8=48\t 7 * 8=56\t 8 * 8=64\t \n",
      "1 * 9= 9\t 2 * 9=18\t 3 * 9=27\t 4 * 9=36\t 5 * 9=45\t 6 * 9=54\t 7 * 9=63\t 8 * 9=72\t 9 * 9=81\t \n"
     ]
    }
   ],
   "source": [
    "for i in range(1, 10):\n",
    "    for j in range(1, i+1):\n",
    "        print(f\"{j} * {i}={i*j:2d}\\t\", end=\" \")\n",
    "    print()"
   ]
  },
  {
   "cell_type": "markdown",
   "metadata": {},
   "source": [
    "# 百钱买百鸡"
   ]
  },
  {
   "cell_type": "code",
   "execution_count": 30,
   "metadata": {},
   "outputs": [
    {
     "name": "stdout",
     "output_type": "stream",
     "text": [
      "公鸡: 4\t母鸡:18\t小鸡:78\n",
      "公鸡: 8\t母鸡:11\t小鸡:81\n",
      "公鸡:12\t母鸡: 4\t小鸡:84\n"
     ]
    }
   ],
   "source": [
    "for x in range(1, 19):\n",
    "    for y in range(1, 33):\n",
    "        z = 100 - x - y\n",
    "        if x * 5 + y * 3 + z / 3 == 100 and not z % 3:\n",
    "            print(f\"公鸡:{x:2d}\\t母鸡:{y:2d}\\t小鸡:{z:2d}\")"
   ]
  },
  {
   "cell_type": "markdown",
   "metadata": {},
   "source": []
  },
  {
   "cell_type": "code",
   "execution_count": null,
   "metadata": {},
   "outputs": [],
   "source": []
  }
 ],
 "metadata": {
  "interpreter": {
   "hash": "07d511f23801e1f195b6b7d50b95568849e4efbdffa3c97d2a4b0d67793e102b"
  },
  "kernelspec": {
   "display_name": "Python 3.10.3 64-bit (system)",
   "language": "python",
   "name": "python3"
  },
  "language_info": {
   "codemirror_mode": {
    "name": "ipython",
    "version": 3
   },
   "file_extension": ".py",
   "mimetype": "text/x-python",
   "name": "python",
   "nbconvert_exporter": "python",
   "pygments_lexer": "ipython3",
   "version": "3.10.3"
  },
  "orig_nbformat": 4
 },
 "nbformat": 4,
 "nbformat_minor": 2
}
