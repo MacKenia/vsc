{
 "cells": [
  {
   "cell_type": "markdown",
   "metadata": {},
   "source": [
    "# 阶乘"
   ]
  },
  {
   "cell_type": "code",
   "execution_count": 1,
   "metadata": {},
   "outputs": [
    {
     "name": "stdout",
     "output_type": "stream",
     "text": [
      "2\n"
     ]
    }
   ],
   "source": [
    "n = input(\"ns\")\n",
    "t = 1\n",
    "for i in range(1, int(n) + 1):\n",
    "    t *= i\n",
    "print(t)"
   ]
  },
  {
   "cell_type": "markdown",
   "metadata": {},
   "source": [
    "# s = 1! + 2! + 3! + ... + n!"
   ]
  },
  {
   "cell_type": "code",
   "execution_count": 8,
   "metadata": {},
   "outputs": [
    {
     "name": "stdout",
     "output_type": "stream",
     "text": [
      "3\n"
     ]
    }
   ],
   "source": [
    "n = int(input(\"ns\"))\n",
    "t = 1\n",
    "sum = 0\n",
    "for i in range(1, n + 1):\n",
    "    t *= i\n",
    "    sum += t\n",
    "print(sum)"
   ]
  },
  {
   "cell_type": "markdown",
   "metadata": {},
   "source": [
    "# 能被67和57整除的数"
   ]
  },
  {
   "cell_type": "code",
   "execution_count": 10,
   "metadata": {},
   "outputs": [
    {
     "name": "stdout",
     "output_type": "stream",
     "text": [
      "68742\n"
     ]
    }
   ],
   "source": [
    "for i in range(60042, 69942, 100):\n",
    "    if not i % 67 and not i % 57:\n",
    "        print(i)"
   ]
  },
  {
   "cell_type": "markdown",
   "metadata": {},
   "source": [
    "# 猴子摘桃"
   ]
  },
  {
   "cell_type": "code",
   "execution_count": 13,
   "metadata": {},
   "outputs": [
    {
     "name": "stdout",
     "output_type": "stream",
     "text": [
      "第2天摘了:5个\n",
      "一共摘了:7个\n"
     ]
    }
   ],
   "source": [
    "n = int(input(\"ns\"))\n",
    "t = 2\n",
    "for i in range(n-1):\n",
    "    print(f\"第{i+2}天摘了:{t*2+1}个\")\n",
    "    t += t * 2 + 1\n",
    "print(f\"一共摘了:{t}个\")"
   ]
  },
  {
   "cell_type": "markdown",
   "metadata": {},
   "source": [
    "# 猴子吃桃子"
   ]
  },
  {
   "cell_type": "code",
   "execution_count": 15,
   "metadata": {},
   "outputs": [
    {
     "name": "stdout",
     "output_type": "stream",
     "text": [
      "1534\n"
     ]
    }
   ],
   "source": [
    "t = 1\n",
    "for i in range(9):\n",
    "    t = (t+1)*2\n",
    "print(f\"十天前有:{t}个桃子\")"
   ]
  },
  {
   "cell_type": "markdown",
   "metadata": {},
   "source": [
    "# 九九乘法表"
   ]
  },
  {
   "cell_type": "code",
   "execution_count": 25,
   "metadata": {},
   "outputs": [
    {
     "name": "stdout",
     "output_type": "stream",
     "text": [
      "1 * 1= 1\t \n",
      "1 * 2= 2\t 2 * 2= 4\t \n",
      "1 * 3= 3\t 2 * 3= 6\t 3 * 3= 9\t \n",
      "1 * 4= 4\t 2 * 4= 8\t 3 * 4=12\t 4 * 4=16\t \n",
      "1 * 5= 5\t 2 * 5=10\t 3 * 5=15\t 4 * 5=20\t 5 * 5=25\t \n",
      "1 * 6= 6\t 2 * 6=12\t 3 * 6=18\t 4 * 6=24\t 5 * 6=30\t 6 * 6=36\t \n",
      "1 * 7= 7\t 2 * 7=14\t 3 * 7=21\t 4 * 7=28\t 5 * 7=35\t 6 * 7=42\t 7 * 7=49\t \n",
      "1 * 8= 8\t 2 * 8=16\t 3 * 8=24\t 4 * 8=32\t 5 * 8=40\t 6 * 8=48\t 7 * 8=56\t 8 * 8=64\t \n",
      "1 * 9= 9\t 2 * 9=18\t 3 * 9=27\t 4 * 9=36\t 5 * 9=45\t 6 * 9=54\t 7 * 9=63\t 8 * 9=72\t 9 * 9=81\t \n"
     ]
    }
   ],
   "source": [
    "for i in range(1, 10):\n",
    "    for j in range(1, i+1):\n",
    "        print(f\"{j} * {i}={i*j:2d}\\t\", end=\" \")\n",
    "    print()"
   ]
  },
  {
   "cell_type": "markdown",
   "metadata": {},
   "source": [
    "# 百钱买百鸡"
   ]
  },
  {
   "cell_type": "code",
   "execution_count": 30,
   "metadata": {},
   "outputs": [
    {
     "name": "stdout",
     "output_type": "stream",
     "text": [
      "公鸡: 4\t母鸡:18\t小鸡:78\n",
      "公鸡: 8\t母鸡:11\t小鸡:81\n",
      "公鸡:12\t母鸡: 4\t小鸡:84\n"
     ]
    }
   ],
   "source": [
    "for x in range(1, 19):\n",
    "    for y in range(1, 33):\n",
    "        z = 100 - x - y\n",
    "        if x * 5 + y * 3 + z / 3 == 100 and not z % 3:\n",
    "            print(f\"公鸡:{x:2d}\\t母鸡:{y:2d}\\t小鸡:{z:2d}\")"
   ]
  },
  {
   "cell_type": "markdown",
   "metadata": {},
   "source": [
    "# 一个整数，它加上100后是一个完全平方数，再加上268又是一个完全平方数，请问该数是多少？在10万以内"
   ]
  },
  {
   "cell_type": "code",
   "execution_count": 1,
   "metadata": {},
   "outputs": [
    {
     "name": "stdout",
     "output_type": "stream",
     "text": [
      "4256\n"
     ]
    }
   ],
   "source": [
    "a=[]\n",
    "for i in range(0,100_000):\n",
    "    a.append(i*i)\n",
    "    if a[i]-268 in a:\n",
    "        print(a[i]-368)"
   ]
  },
  {
   "cell_type": "markdown",
   "metadata": {},
   "source": [
    "# 从键盘输入一个字符串，统计其中大小写字母，数字字符，空格和其他字符出现的次数"
   ]
  },
  {
   "cell_type": "code",
   "execution_count": 2,
   "metadata": {},
   "outputs": [
    {
     "name": "stdout",
     "output_type": "stream",
     "text": [
      "Letters: 8\n",
      "Digits: 5\n",
      "Spaces: 2\n",
      "Others: 3\n"
     ]
    }
   ],
   "source": [
    "import re\n",
    "\n",
    "s = input(\"String: \")\n",
    "Letter = re.compile(\"[a-zA-Z]\")\n",
    "Digit = re.compile(\"[0-9]\")\n",
    "Space = re.compile(\"[ ]\")\n",
    "Other = re.compile(\"[a-zA-Z0-9 ]\")\n",
    "\n",
    "ls = re.findall(Letter, s)\n",
    "ds = re.findall(Digit, s)\n",
    "ss = re.findall(Space, s)\n",
    "os = re.sub(Other, \"\", s)\n",
    "\n",
    "print(f\"Letters: {len(ls)}\")\n",
    "print(f\"Digits: {len(ds)}\")\n",
    "print(f\"Spaces: {len(ss)}\")\n",
    "print(f\"Others: {len(os)}\")"
   ]
  },
  {
   "cell_type": "markdown",
   "metadata": {},
   "source": [
    "# 输出1-100的素数"
   ]
  },
  {
   "cell_type": "code",
   "execution_count": 8,
   "metadata": {},
   "outputs": [
    {
     "name": "stdout",
     "output_type": "stream",
     "text": [
      "1 2 3 5 7 11 13 17 19 23 29 31 37 41 43 47 53 59 61 67 71 73 79 83 89 97 "
     ]
    }
   ],
   "source": [
    "for i in range(1, 100):\n",
    "    flag = True\n",
    "    for j in range(2, (i>>1)+1):\n",
    "        if not i % j :\n",
    "            flag = False\n",
    "            break\n",
    "    if flag :\n",
    "        print(f\"{i} \",end=\"\")"
   ]
  },
  {
   "cell_type": "markdown",
   "metadata": {},
   "source": [
    "# 猜数游戏"
   ]
  },
  {
   "cell_type": "code",
   "execution_count": null,
   "metadata": {},
   "outputs": [],
   "source": [
    "import random\n",
    "a = random.randint(1, 100)\n",
    "\n",
    "while True:\n",
    "    b = int(input(\"Guess: \"))\n",
    "    if b == a:\n",
    "        print(\"You got it!\")\n",
    "        break\n",
    "    elif b > a:\n",
    "        print(\"Too big!\")\n",
    "    else:\n",
    "        print(\"Too small!\")"
   ]
  },
  {
   "cell_type": "markdown",
   "metadata": {},
   "source": [
    "# 随机出题"
   ]
  },
  {
   "cell_type": "code",
   "execution_count": null,
   "metadata": {},
   "outputs": [],
   "source": [
    "import random\n",
    "\n",
    "# 随机出题系统 10以内四则运算 并统计正确率\n",
    "a = b = n = 0\n",
    "op = [\"+\", \"-\", \"*\", \"/\"]\n",
    "sum = [0, 0]\n",
    "\n",
    "n = int(input(\"题目数量：\"))\n",
    "\n",
    "for i in range(n):\n",
    "    o = random.randint(0, 3)\n",
    "    a = random.randint(1, 10)\n",
    "    b = random.randint(1, 10)\n",
    "    \n",
    "    # 排除特殊情况\n",
    "    if o == 1:\n",
    "        if a < b:\n",
    "            a, b = b, c\n",
    "    if o == 3:\n",
    "        while a % b != 0 or a < b:\n",
    "            a = random.randint(1, 10)\n",
    "            b = random.randint(1, 10)\n",
    "\n",
    "    print(f\"{a} {op[o]} {b} = \", end=\"\")\n",
    "    c = int(input())\n",
    "\n",
    "    if o == 0:\n",
    "        if a + b == c:\n",
    "            sum[0] += 1\n",
    "            print(\"正确\")\n",
    "            continue\n",
    "    elif o == 1:\n",
    "        if a - b == c:\n",
    "            sum[0] += 1\n",
    "            print(\"正确\")\n",
    "            continue\n",
    "    elif o == 2:\n",
    "        if a * b == c:\n",
    "            sum[0] += 1\n",
    "            print(\"正确\")\n",
    "            continue\n",
    "    elif o == 3:\n",
    "        if a / b == c:\n",
    "            sum[0] += 1\n",
    "            print(\"正确\")\n",
    "            continue\n",
    "    else:\n",
    "        print(\"错误\")\n",
    "        sum[1] += 1\n",
    "        continue\n",
    "\n",
    "print(\"结果：\")\n",
    "print(f\"题目总数：{n}\\t正确数：{sum[0]}\\t错误数：{sum[1]}\\t得分：{100*sum[0]/n}\")"
   ]
  },
  {
   "cell_type": "markdown",
   "metadata": {},
   "source": [
    "# 加密字符串"
   ]
  },
  {
   "cell_type": "code",
   "execution_count": 11,
   "metadata": {},
   "outputs": [
    {
     "name": "stdout",
     "output_type": "stream",
     "text": [
      "原字符串：azAZ\n",
      "加密后：feFE\n",
      "解密后：azAZ\n"
     ]
    }
   ],
   "source": [
    "s = input(\"String: \")\n",
    "ss = \"\"\n",
    "dss = \"\"\n",
    "\n",
    "for i in s:\n",
    "    ascii = ord(i)\n",
    "    if ascii >= 65 and ascii <= 90:\n",
    "        ss += chr((ascii - 60) % 26 + 65)\n",
    "    elif ascii >= 97 and ascii <= 122:\n",
    "        ss += chr((ascii - 92) % 26 + 97)\n",
    "\n",
    "for i in ss:\n",
    "    ascii = ord(i)\n",
    "    if ascii >= 65 and ascii <= 90:\n",
    "        dss += chr((ascii - 70) % 26 + 65)\n",
    "    elif ascii >= 97 and ascii <= 122:\n",
    "        dss += chr((ascii - 102) % 26 + 97)\n",
    "\n",
    "print(f\"原字符串：{s}\\n加密后：{ss}\\n解密后：{dss}\")"
   ]
  },
  {
   "cell_type": "markdown",
   "metadata": {},
   "source": [
    "# 密码加密"
   ]
  },
  {
   "cell_type": "code",
   "execution_count": 18,
   "metadata": {},
   "outputs": [
    {
     "name": "stdout",
     "output_type": "stream",
     "text": [
      "[306, 303, 304, 306, 305]\n"
     ]
    }
   ],
   "source": [
    "p = input(\"密码：\")\n",
    "\n",
    "lps = []\n",
    "t = 0\n",
    "\n",
    "for i in p:\n",
    "    t += ord(i)\n",
    "    lps.append(ord(i))\n",
    "\n",
    "lps = lps[::-1]\n",
    "\n",
    "for i in range(len(lps)):\n",
    "    lps[i] += t\n",
    "\n",
    "print(lps)"
   ]
  },
  {
   "cell_type": "markdown",
   "metadata": {},
   "source": [
    "# 输出座位编号"
   ]
  },
  {
   "cell_type": "code",
   "execution_count": null,
   "metadata": {},
   "outputs": [],
   "source": [
    "serial = []\n",
    "for i in range(1, 31):\n",
    "    serial.append(\"A\" + str(i))\n",
    "\n",
    "print(\"座位编号：\")\n",
    "print(serial)\n",
    "\n",
    "for i in serial:\n",
    "    print(i)"
   ]
  },
  {
   "cell_type": "markdown",
   "metadata": {},
   "source": [
    "# 你的成绩"
   ]
  },
  {
   "cell_type": "code",
   "execution_count": 29,
   "metadata": {},
   "outputs": [
    {
     "name": "stdout",
     "output_type": "stream",
     "text": [
      "这5位学生的成绩：\n",
      "3\t12\t3\t42\t3\t"
     ]
    }
   ],
   "source": [
    "list = []\n",
    "for i in range(5):\n",
    "    list.append(int(input(\"输入成绩：\")))\n",
    "\n",
    "print(\"这5位学生的成绩：\")\n",
    "for i in list:\n",
    "    print(str(i)+\"\\t\", end=\"\")"
   ]
  },
  {
   "cell_type": "markdown",
   "metadata": {},
   "source": [
    "# 查找最高分"
   ]
  },
  {
   "cell_type": "code",
   "execution_count": 45,
   "metadata": {},
   "outputs": [
    {
     "name": "stdout",
     "output_type": "stream",
     "text": [
      "81\t87\t43\t35\t50\t62\t50\t78\t60\t65\t\n",
      "最高分: 87，位置: 2\n"
     ]
    }
   ],
   "source": [
    "import random\n",
    "\n",
    "list = []\n",
    "big = 0\n",
    "for i in range(10):\n",
    "    list.append(random.randint(0, 100))\n",
    "\n",
    "for i in list:\n",
    "    print(i, end=\"\\t\")\n",
    "\n",
    "for i in range(len(list)):\n",
    "    if list[i] > list[big]:\n",
    "        big = i\n",
    "\n",
    "print(f\"\\n最高分: {list[big]}，位置: {big+1}\")\n"
   ]
  },
  {
   "cell_type": "markdown",
   "metadata": {},
   "source": [
    "# 写出执行结果"
   ]
  },
  {
   "cell_type": "code",
   "execution_count": 1,
   "metadata": {},
   "outputs": [
    {
     "name": "stdout",
     "output_type": "stream",
     "text": [
      "hello python\n",
      " hello python\n",
      "hello python \n",
      "hello pyth\n",
      "llo python\n",
      "hellopython\n",
      " good python \n",
      " ello pyton \n"
     ]
    }
   ],
   "source": [
    "var = \" hello python \"\n",
    "print(var.strip())\n",
    "print(var.rstrip())\n",
    "print(var.lstrip())\n",
    "print(var.strip().strip(\"on\"))\n",
    "print(var.strip().strip(\"h\").strip(\"e\"))\n",
    "print(var.replace(\" \",\"\"))\n",
    "print(var.replace(\"hello\",\"good\"))\n",
    "print(var.replace(\"h\",\"\"))"
   ]
  },
  {
   "cell_type": "markdown",
   "metadata": {},
   "source": [
    "# 特别注意"
   ]
  },
  {
   "cell_type": "code",
   "execution_count": 4,
   "metadata": {},
   "outputs": [
    {
     "name": "stdout",
     "output_type": "stream",
     "text": [
      "PYTHON\n",
      "python\n",
      "Python\n",
      "赵 钱 孙 李 周 吴 郑 王 1 赵 2 钱 3 孙 4 李 5 周 6 吴 7 郑 8 王 "
     ]
    }
   ],
   "source": [
    "import random\n",
    "\n",
    "item = \"a\"\n",
    "num = [\"apple\", \"banana\", \"orange\"]\n",
    "\n",
    "new = chr(ord(item)+3)\n",
    "low = random.choice(num)\n",
    "up = random.choice(num).upper()\n",
    "password = low + up + new\n",
    "s1 = \"Python\"\n",
    "uppers1 = s1.upper()\n",
    "print(uppers1)\n",
    "lowers1 = s1.lower()\n",
    "print(lowers1)\n",
    "capitalizes1 = s1.capitalize()\n",
    "print(capitalizes1)\n",
    "\n",
    "name = \"赵钱孙李周吴郑王\"\n",
    "for i in range(len(name)):\n",
    "    print(name[i], end=\" \")\n",
    "for index, i in enumerate(name):\n",
    "    print(index+1, i, end=\" \")"
   ]
  },
  {
   "cell_type": "markdown",
   "metadata": {},
   "source": [
    "# 查找字符"
   ]
  },
  {
   "cell_type": "code",
   "execution_count": 3,
   "metadata": {},
   "outputs": [
    {
     "name": "stdout",
     "output_type": "stream",
     "text": [
      "3\n",
      "2\n",
      "2\n",
      "3\n"
     ]
    }
   ],
   "source": [
    "name = \"玄德出马，左有云长，右有翼德\"\n",
    "count = name.count(name[6])\n",
    "new = name.find(\"德\",5)\n",
    "len(name[0:2])\n",
    "surname = \"赵构钱丽孙周可安李冯赵周同吴钱郑周王冯初陈\"\n",
    "print(surname.count(\"周\"))\n",
    "print(surname.count(\"冯\"))\n",
    "name = \"www.mingrisoftr.con,www.huawei.com,www.jd.com\"\n",
    "print(name.count(\"com\",5))\n",
    "print(name.count(\"www\"))"
   ]
  },
  {
   "cell_type": "markdown",
   "metadata": {},
   "source": [
    "# 判断用户输入"
   ]
  },
  {
   "cell_type": "code",
   "execution_count": 10,
   "metadata": {},
   "outputs": [
    {
     "name": "stdout",
     "output_type": "stream",
     "text": [
      "X9cV\n",
      "正确\n"
     ]
    }
   ],
   "source": [
    "import random\n",
    "\n",
    "yzm = \"\"\n",
    "for i in range(4):\n",
    "    yzm += chr(random.choice([random.randint(65, 90), random.randint(97, 122),random.randint(ord(\"0\"),ord(\"9\"))]))\n",
    "print(yzm)\n",
    "s = input(\"请输入验证码：\")\n",
    "if s == yzm:\n",
    "    print(\"正确\")\n",
    "else:\n",
    "    print(\"错误\")"
   ]
  },
  {
   "cell_type": "markdown",
   "metadata": {},
   "source": [
    "# 《三国演义》是我国的四大名著之一，关羽是《三国演义》中有名的式将。根据给定的《三国演义》的片段，输出字符串name中前两个字符“云长”两字出现的次数和出现的位置。"
   ]
  },
  {
   "cell_type": "code",
   "execution_count": null,
   "metadata": {},
   "outputs": [],
   "source": [
    "name = \"云长，云长，云长，云长，云长，云长，云长\""
   ]
  },
  {
   "cell_type": "markdown",
   "metadata": {},
   "source": [
    "# 敏感词替换"
   ]
  },
  {
   "cell_type": "code",
   "execution_count": null,
   "metadata": {},
   "outputs": [],
   "source": [
    "s = \"不开发票\"\n",
    "print(s.replace(\"发票\", \"**\", 1))"
   ]
  },
  {
   "cell_type": "markdown",
   "metadata": {},
   "source": []
  },
  {
   "cell_type": "code",
   "execution_count": null,
   "metadata": {},
   "outputs": [],
   "source": [
    "code = []\n",
    "for i in range(1, 31):\n",
    "    code.append(\"A\" + str(i))\n",
    "print()"
   ]
  }
 ],
 "metadata": {
  "interpreter": {
   "hash": "07d511f23801e1f195b6b7d50b95568849e4efbdffa3c97d2a4b0d67793e102b"
  },
  "kernelspec": {
   "display_name": "Python 3.10.3 64-bit (system)",
   "language": "python",
   "name": "python3"
  },
  "language_info": {
   "codemirror_mode": {
    "name": "ipython",
    "version": 3
   },
   "file_extension": ".py",
   "mimetype": "text/x-python",
   "name": "python",
   "nbconvert_exporter": "python",
   "pygments_lexer": "ipython3",
   "version": "3.10.3"
  },
  "orig_nbformat": 4
 },
 "nbformat": 4,
 "nbformat_minor": 2
}
