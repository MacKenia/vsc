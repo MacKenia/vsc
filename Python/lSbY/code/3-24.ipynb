{
 "cells": [
  {
   "cell_type": "markdown",
   "metadata": {},
   "source": [
    "# 写出执行结果"
   ]
  },
  {
   "cell_type": "code",
   "execution_count": 1,
   "metadata": {},
   "outputs": [
    {
     "name": "stdout",
     "output_type": "stream",
     "text": [
      "hello python\n",
      " hello python\n",
      "hello python \n",
      "hello pyth\n",
      "llo python\n",
      "hellopython\n",
      " good python \n",
      " ello pyton \n"
     ]
    }
   ],
   "source": [
    "var = \" hello python \"\n",
    "print(var.strip())\n",
    "print(var.rstrip())\n",
    "print(var.lstrip())\n",
    "print(var.strip().strip(\"on\"))\n",
    "print(var.strip().strip(\"h\").strip(\"e\"))\n",
    "print(var.replace(\" \",\"\"))\n",
    "print(var.replace(\"hello\",\"good\"))\n",
    "print(var.replace(\"h\",\"\"))"
   ]
  },
  {
   "cell_type": "markdown",
   "metadata": {},
   "source": [
    "# 特别注意"
   ]
  },
  {
   "cell_type": "code",
   "execution_count": 1,
   "metadata": {},
   "outputs": [
    {
     "name": "stdout",
     "output_type": "stream",
     "text": [
      "PYTHON\n",
      "python\n",
      "Python\n",
      "赵 钱 孙 李 周 吴 郑 王 1 赵 2 钱 3 孙 4 李 5 周 6 吴 7 郑 8 王 "
     ]
    }
   ],
   "source": [
    "import random\n",
    "\n",
    "item = \"a\"\n",
    "num = [\"apple\", \"banana\", \"orange\"]\n",
    "\n",
    "new = chr(ord(item)+3)\n",
    "low = random.choice(num)\n",
    "up = random.choice(num).upper()\n",
    "password = low + up + new\n",
    "s1 = \"Python\"\n",
    "uppers1 = s1.upper()\n",
    "print(uppers1)\n",
    "lowers1 = s1.lower()\n",
    "print(lowers1)\n",
    "capitalizes1 = s1.capitalize()\n",
    "print(capitalizes1)\n",
    "\n",
    "name = \"赵钱孙李周吴郑王\"\n",
    "for i in range(len(name)):\n",
    "    print(name[i], end=\" \")\n",
    "for index, i in enumerate(name):\n",
    "    print(index+1, i, end=\" \")"
   ]
  },
  {
   "cell_type": "markdown",
   "metadata": {},
   "source": [
    "# 查找字符"
   ]
  },
  {
   "cell_type": "code",
   "execution_count": 3,
   "metadata": {},
   "outputs": [
    {
     "name": "stdout",
     "output_type": "stream",
     "text": [
      "3\n",
      "2\n",
      "2\n",
      "3\n"
     ]
    }
   ],
   "source": [
    "name = \"玄德出马，左有云长，右有翼德\"\n",
    "count = name.count(name[6])\n",
    "new = name.find(\"德\",5)\n",
    "len(name[0:2])\n",
    "surname = \"赵构钱丽孙周可安李冯赵周同吴钱郑周王冯初陈\"\n",
    "print(surname.count(\"周\"))\n",
    "print(surname.count(\"冯\"))\n",
    "name = \"www.mingrisoftr.con,www.huawei.com,www.jd.com\"\n",
    "print(name.count(\"com\",5))\n",
    "print(name.count(\"www\"))"
   ]
  },
  {
   "cell_type": "markdown",
   "metadata": {},
   "source": [
    "# 判断用户输入"
   ]
  },
  {
   "cell_type": "code",
   "execution_count": 10,
   "metadata": {},
   "outputs": [
    {
     "name": "stdout",
     "output_type": "stream",
     "text": [
      "X9cV\n",
      "正确\n"
     ]
    }
   ],
   "source": [
    "import random\n",
    "\n",
    "yzm = \"\"\n",
    "for i in range(4):\n",
    "    yzm += chr(random.choice([random.randint(65, 90), random.randint(97, 122),random.randint(ord(\"0\"),ord(\"9\"))]))\n",
    "print(yzm)\n",
    "s = input(\"请输入验证码：\")\n",
    "if s == yzm:\n",
    "    print(\"正确\")\n",
    "else:\n",
    "    print(\"错误\")"
   ]
  },
  {
   "cell_type": "markdown",
   "metadata": {},
   "source": [
    "# 《三国演义》是我国的四大名著之一，关羽是《三国演义》中有名的式将。根据给定的《三国演义》的片段，输出字符串name中前两个字符“云长”两字出现的次数和出现的位置。"
   ]
  },
  {
   "cell_type": "code",
   "execution_count": 10,
   "metadata": {},
   "outputs": [
    {
     "name": "stdout",
     "output_type": "stream",
     "text": [
      "云长出现次数：3\n",
      "出现的位置：None\n"
     ]
    }
   ],
   "source": [
    "import re\n",
    "\n",
    "name = \"当下两军相对，玄德出马，左有云长，右有翼德，扬鞭大驾：“反国逆贼，何不早降！“程远志大怒，道副将邓茂出战。张飞挺丈八蛇不直出，手起处，刺中邓茂心窝，翻身落马。程远志见折了邓茂，拍马舞刀，直取张飞。云长舞动大刀，纵马飞迎。程远志见了，早吃一惊，措手不及，被云长刀起处，挥为两段。“\"\n",
    "key = re.compile(\"云长\")\n",
    "\n",
    "print(f\"云长出现次数：{name.count('云长')}\")\n",
    "print(\"出现的位置：\",end=\"\")\n",
    "\n",
    "result = re.match(key, name)\n",
    "\n",
    "print(result)"
   ]
  }
 ],
 "metadata": {
  "interpreter": {
   "hash": "07d511f23801e1f195b6b7d50b95568849e4efbdffa3c97d2a4b0d67793e102b"
  },
  "kernelspec": {
   "display_name": "Python 3.10.3 64-bit (system)",
   "language": "python",
   "name": "python3"
  },
  "language_info": {
   "codemirror_mode": {
    "name": "ipython",
    "version": 3
   },
   "file_extension": ".py",
   "mimetype": "text/x-python",
   "name": "python",
   "nbconvert_exporter": "python",
   "pygments_lexer": "ipython3",
   "version": "3.10.4"
  },
  "orig_nbformat": 4
 },
 "nbformat": 4,
 "nbformat_minor": 2
}
