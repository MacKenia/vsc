{
 "cells": [
  {
   "cell_type": "markdown",
   "metadata": {},
   "source": [
    "# 统计并输出三国演绎中主要人物出现的次序"
   ]
  },
  {
   "cell_type": "code",
   "execution_count": null,
   "metadata": {},
   "outputs": [],
   "source": [
    "import jieba\n",
    "counts = {}\n",
    "words = {}\n",
    "text = \"\"\n",
    "\n",
    "with open(\"threekingdoms.txt\",\"r\") as f:\n",
    "    text = f.read()\n",
    "\n",
    "for i in [\"，\",\"。\",\"！\",\"？\",\"\\\\n\",\"；\"]:\n",
    "    text = text.replace(i,\"\")\n",
    "\n",
    "for i in jieba.lcut(text):\n",
    "    words[i] = words.get(i, 0) + 1\n",
    "\n",
    "for i in words:\n",
    "    if i in ['贾宝玉','宝玉']:\n",
    "        counts['贾宝玉'] = counts.get('贾宝玉', 0) + 1\n",
    "    elif i in ['林黛玉','颦儿']:\n",
    "        counts['林黛玉'] = counts.get('林黛玉', 0) + 1\n",
    "    elif i in ['王熙凤','凤姐']:\n",
    "        counts['王熙凤'] = counts.get('王熙凤', 0) + 1\n",
    "    elif i in ['薛宝钗','宝钗']:\n",
    "        counts['薛宝钗'] = counts.get('薛宝钗', 0) + 1\n",
    "    elif i in ['刘姥姥']:\n",
    "        counts['刘姥姥'] = counts.get('刘姥姥', 0) + 1\n",
    "\n",
    "print(counts)"
   ]
  },
  {
   "cell_type": "markdown",
   "metadata": {},
   "source": [
    "# 从四大名著中任选一本，统计并输出主要人物出现的频次"
   ]
  },
  {
   "cell_type": "code",
   "execution_count": null,
   "metadata": {},
   "outputs": [],
   "source": []
  },
  {
   "cell_type": "markdown",
   "metadata": {},
   "source": [
    "# 手机通讯录（字典实现）"
   ]
  },
  {
   "cell_type": "code",
   "execution_count": 1,
   "metadata": {},
   "outputs": [
    {
     "name": "stdout",
     "output_type": "stream",
     "text": [
      "张三 ['123456789', 'none@none.com', '江苏省南京市']\n",
      "李四 ['123456789', 'c@c.com', '中国南京市']\n"
     ]
    }
   ],
   "source": [
    "class contact:\n",
    "    def __init__(self):\n",
    "        self.content = {}\n",
    "    def add(self,name,phone,email,address):\n",
    "        self.content[name] = [phone,email,address]\n",
    "    def update(self,name,phone,email,address):\n",
    "        self.content[name] = [phone,email,address]\n",
    "    def delete(self,name):\n",
    "        del self.content[name]\n",
    "    def search(self,name):\n",
    "        if name in self.content:\n",
    "            print(self.content[name])\n",
    "        else:\n",
    "            print(\"没有找到\")\n",
    "    def show(self):\n",
    "        for i in self.content:\n",
    "            print(i,self.content[i])\n",
    "\n",
    "c = contact()\n",
    "c.add(\"张三\",\"123456789\",\"none@none.com\",\"江苏省南京市\")\n",
    "c.add(\"李四\",\"123456789\",\"s@s.cn\",\"江苏省南京市\")\n",
    "c.add(\"王五\",\"123456789\",\"a@a.c\",\"江苏省南京市\")\n",
    "\n",
    "c.update(\"李四\",\"123456789\",\"c@c.com\",\"中国南京市\")\n",
    "c.delete(\"王五\")\n",
    "\n",
    "c.show()\n",
    "    "
   ]
  },
  {
   "cell_type": "markdown",
   "metadata": {},
   "source": [
    "# 利用集合完成“生词本程序”"
   ]
  },
  {
   "cell_type": "code",
   "execution_count": null,
   "metadata": {},
   "outputs": [],
   "source": [
    "import random\n",
    "class vocabulary:\n",
    "    def __init__(self):\n",
    "        self.words = set()\n",
    "    def add(self):\n",
    "        self.words.add((input(\"请输入单词：\"),input(\"请输入释义：\")))\n",
    "    def delete(self):\n",
    "        self.words.discard((input(\"请输入单词：\"),input(\"请输入释义：\")))\n",
    "    def show(self):\n",
    "        for i in list(self.words):\n",
    "            print(i)\n",
    "    def practice(self):\n",
    "        while True:\n",
    "            word = random.choice(list(self.words))\n",
    "            print(word[0],list(self.words)[list(self.words).index(word)][1])\n",
    "            if input(\"是否继续？（y/n）\") == \"n\":\n",
    "                break\n",
    "    def clear(self):\n",
    "        self.words.clear()\n",
    "\n",
    "vocabulary = vocabulary()\n",
    "print(\"1.添加单词\")\n",
    "print(\"2.删除单词\")\n",
    "print(\"3.显示单词\")\n",
    "print(\"4.开始练习\")\n",
    "print(\"5.清空单词\")\n",
    "print(\"6.退出\")\n",
    "while True:\n",
    "    choice = input(\"请输入选项：\").strip()\n",
    "    if choice == \"1\":\n",
    "        vocabulary.add()\n",
    "    elif choice == \"2\":\n",
    "        vocabulary.delete()\n",
    "    elif choice == \"3\":\n",
    "        vocabulary.show()\n",
    "    elif choice == \"4\":\n",
    "        vocabulary.practice()\n",
    "    elif choice == \"5\":\n",
    "        vocabulary.clear()\n",
    "    elif choice == \"6\":\n",
    "        break\n",
    "    else:\n",
    "        print(\"输入错误，请重新输入\")\n"
   ]
  },
  {
   "cell_type": "markdown",
   "metadata": {},
   "source": [
    "# 计算器"
   ]
  },
  {
   "cell_type": "code",
   "execution_count": null,
   "metadata": {},
   "outputs": [],
   "source": [
    "import re\n",
    "\n",
    "class Calculator:\n",
    "    def __init__(self):\n",
    "        self.num1 = 0\n",
    "        self.num2 = 0\n",
    "        self.result = 0\n",
    "        self.operator = \"\"\n",
    "\n",
    "    def __process__(self, seq):\n",
    "        self.num1 = int(re.findall(r\"\\d+\", seq)[0])\n",
    "        self.operator = re.findall(r\"[+-/*]\", seq)[0]\n",
    "        self.num2 = int(re.findall(r\"\\d+\", seq)[1])\n",
    "\n",
    "    def calculate(self, seq):\n",
    "        self.__process__(seq)\n",
    "        if self.operator == \"+\":\n",
    "            self.result = self.num1 + self.num2\n",
    "        elif self.operator == \"-\":\n",
    "            self.result = self.num1 - self.num2\n",
    "        elif self.operator == \"*\":\n",
    "            self.result = self.num1 * self.num2\n",
    "        elif self.operator == \"/\":\n",
    "            self.result = self.num1 / self.num2\n",
    "        return self.result\n",
    "    \n",
    "    def input(self):\n",
    "        seq = input(\"请输入运算式：\")\n",
    "        print(self.calculate(seq))\n",
    "        "
   ]
  }
 ],
 "metadata": {
  "interpreter": {
   "hash": "767d51c1340bd893661ea55ea3124f6de3c7a262a8b4abca0554b478b1e2ff90"
  },
  "kernelspec": {
   "display_name": "Python 3.10.4 64-bit",
   "language": "python",
   "name": "python3"
  },
  "language_info": {
   "codemirror_mode": {
    "name": "ipython",
    "version": 3
   },
   "file_extension": ".py",
   "mimetype": "text/x-python",
   "name": "python",
   "nbconvert_exporter": "python",
   "pygments_lexer": "ipython3",
   "version": "3.10.4"
  },
  "orig_nbformat": 4
 },
 "nbformat": 4,
 "nbformat_minor": 2
}
