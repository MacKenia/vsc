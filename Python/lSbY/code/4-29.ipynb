{
 "cells": [
  {
   "cell_type": "markdown",
   "metadata": {},
   "source": [
    "# 随机生产验证码"
   ]
  },
  {
   "cell_type": "code",
   "execution_count": 16,
   "metadata": {},
   "outputs": [
    {
     "name": "stdout",
     "output_type": "stream",
     "text": [
      "c2Wz99\n"
     ]
    }
   ],
   "source": [
    "import random\n",
    "\n",
    "text = \"abcdefghijklmnopqrstuvwxyzABCDEFGHIJKLMNOPQRSTUVWXYZ0123456789\"\n",
    "text = list(text)\n",
    "code = \"\"\n",
    "\n",
    "for i in range(6):\n",
    "    code += random.choice(text)\n",
    "\n",
    "print(code)"
   ]
  },
  {
   "cell_type": "markdown",
   "metadata": {},
   "source": [
    "# 绘制多角星"
   ]
  },
  {
   "cell_type": "code",
   "execution_count": 1,
   "metadata": {},
   "outputs": [],
   "source": [
    "import turtle as t\n",
    "t.color('black', 'red')\n",
    "t.setup(450, 400)\n",
    "t.begin_fill()\n",
    "while True:\n",
    "    t.forward(150)\n",
    "    t.left(150)\n",
    "    if abs(t.pos()) < 1:\n",
    "        break\n",
    "t.end_fill()\n",
    "t.done()"
   ]
  },
  {
   "cell_type": "markdown",
   "metadata": {},
   "source": [
    "# 身份证归属地查询"
   ]
  },
  {
   "cell_type": "code",
   "execution_count": 2,
   "metadata": {},
   "outputs": [
    {
     "name": "stdout",
     "output_type": "stream",
     "text": [
      "110000:北京市\n"
     ]
    }
   ],
   "source": [
    "content_dict = {\n",
    "    \"110000\":\"北京市\",\n",
    "    \"110101\":\"东城区\",\n",
    "    \"110102\":\"西城区\",\n",
    "    \"110105\":\"朝阳区\",\n",
    "    \"110106\":\"丰台区\",\n",
    "    \"110107\":\"石景山区\",\n",
    "    \"110108\":\"海淀区\",\n",
    "    \"110109\":\"门头湾区\",\n",
    "    \"110111\":\"房山区\",\n",
    "    \"110112\":\"通州区\",\n",
    "    \"110113\":\"顺义区\",\n",
    "    \"110114\":\"昌平区\",\n",
    "    \"110115\":\"大兴区\",\n",
    "    \"110116\":\"怀柔区\"\n",
    "    }\n",
    "\n",
    "code = input(\"请输入身份证号前六位\")\n",
    "\n",
    "if code in content_dict.keys():\n",
    "    print(f\"{code}:{content_dict[code]}\")"
   ]
  },
  {
   "cell_type": "markdown",
   "metadata": {},
   "source": [
    "# 随机出题v0.2b"
   ]
  },
  {
   "cell_type": "code",
   "execution_count": 7,
   "metadata": {},
   "outputs": [],
   "source": [
    "import random\n",
    "def gen_random_test():\n",
    "    # 随机出题系统 10以内四则运算 并统计正确率\n",
    "    a = b = n = 0\n",
    "    op = [\"+\", \"-\", \"*\", \"/\"]\n",
    "    sum = [0, 0]\n",
    "\n",
    "    n = int(input(\"题目数量：\"))\n",
    "\n",
    "    a_flag = input(\"是否显示答案？(y/n)\").strip()\n",
    "\n",
    "    with open(\"test.txt\", \"w\") as f:\n",
    "        for i in range(n):\n",
    "            o = random.randint(0, 3)\n",
    "            a = random.randint(1, 10)\n",
    "            b = random.randint(1, 10)\n",
    "\n",
    "            # 排除特殊情况\n",
    "            if o == 1:\n",
    "                if a < b:\n",
    "                    a, b = b, a\n",
    "            if o == 3:\n",
    "                while a % b != 0 or a < b:\n",
    "                    a = random.randint(1, 10)\n",
    "                    b = random.randint(1, 10)\n",
    "\n",
    "            if a_flag.lower() == \"n\":\n",
    "                f.write(f\"{a} {op[o]} {b} = \\n\")\n",
    "            else:\n",
    "                f.write(f\"{b} {op[o]} {a} = \")\n",
    "                if o == 0:\n",
    "                    f.write(f\"{a + b}\\n\")\n",
    "                elif o == 1:\n",
    "                    f.write(f\"{a - b}\\n\")\n",
    "                elif o == 2:\n",
    "                    f.write(f\"{a * b}\\n\")\n",
    "                elif o == 3:\n",
    "                    f.write(f\"{a // b}\\n\")\n",
    "\n",
    "gen_random_test()"
   ]
  },
  {
   "cell_type": "markdown",
   "metadata": {},
   "source": [
    "# 排版程序"
   ]
  },
  {
   "cell_type": "code",
   "execution_count": 4,
   "metadata": {},
   "outputs": [
    {
     "name": "stdout",
     "output_type": "stream",
     "text": [
      "第1章 Web应用开发简介 1\n",
      "\t1.1 网络程序开发体系结构 1\n",
      "\t\t1.1.1 C/S体系结构介绍 1\n",
      "\t\t1.1.2 B/S体系结构介绍 2\n",
      "\t\t1.1.3 两种体系结构的比较 2\n",
      "\t1.2 Web简介 3\n",
      "\t\t1.2.1 什么是Web3\n",
      "\t\t1.2.2 Web应用程序的工作原理\n",
      "\t\t1.2.3 Web的发展历程 4\n",
      "\t1.3 Web开发技术 5\n",
      "\t\t1.3.1 喜户端应用的技术 5\n",
      "\t\t1.3.2 服务最端应用的技术 8\n",
      "小结 9\n",
      "习题 9\n",
      "算2章 网页前端开发基础 10\n",
      "\t2.1 HTML标记语言 10\n",
      "\t\t2.1.1 创建第一个HTML文件 10\n",
      "\t\t2.1.2 HTML文档结构 12\n",
      "\t\t2.1.3 HTML常用标记 13\n"
     ]
    }
   ],
   "source": [
    "content = '''第1章 Web应用开发简介 1\n",
    "1.1 网络程序开发体系结构 1\n",
    "1.1.1 C/S体系结构介绍 1\n",
    "1.1.2 B/S体系结构介绍 2\n",
    "1.1.3 两种体系结构的比较 2\n",
    "1.2 Web简介 3\n",
    "1.2.1 什么是Web3\n",
    "1.2.2 Web应用程序的工作原理\n",
    "1.2.3 Web的发展历程 4\n",
    "1.3 Web开发技术 5\n",
    "1.3.1 喜户端应用的技术 5\n",
    "1.3.2 服务最端应用的技术 8\n",
    "小结 9\n",
    "习题 9\n",
    "算2章 网页前端开发基础 10\n",
    "2.1 HTML标记语言 10\n",
    "2.1.1 创建第一个HTML文件 10\n",
    "2.1.2 HTML文档结构 12\n",
    "2.1.3 HTML常用标记 13'''\n",
    "\n",
    "contents = content.split(\"\\n\")\n",
    "\n",
    "for i in range(len(contents)):\n",
    "    n = contents[i].count(\".\")\n",
    "    print(\"\\t\" * n, end=\"\")\n",
    "    print(contents[i])"
   ]
  }
 ],
 "metadata": {
  "interpreter": {
   "hash": "767d51c1340bd893661ea55ea3124f6de3c7a262a8b4abca0554b478b1e2ff90"
  },
  "kernelspec": {
   "display_name": "Python 3.10.4 64-bit",
   "language": "python",
   "name": "python3"
  },
  "language_info": {
   "codemirror_mode": {
    "name": "ipython",
    "version": 3
   },
   "file_extension": ".py",
   "mimetype": "text/x-python",
   "name": "python",
   "nbconvert_exporter": "python",
   "pygments_lexer": "ipython3",
   "version": "3.10.3"
  },
  "orig_nbformat": 4
 },
 "nbformat": 4,
 "nbformat_minor": 2
}
