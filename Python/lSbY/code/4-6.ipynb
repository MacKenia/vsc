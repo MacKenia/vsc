{
 "cells": [
  {
   "cell_type": "markdown",
   "metadata": {},
   "source": [
    "# 商品价格"
   ]
  },
  {
   "cell_type": "code",
   "execution_count": 5,
   "metadata": {},
   "outputs": [
    {
     "name": "stdout",
     "output_type": "stream",
     "text": [
      "1 399\n",
      "4 288\n",
      "7 235\n"
     ]
    }
   ],
   "source": [
    "goods = {\"1\":399,\"2\":4369,\"3\":539,\"4\":288,\"5\":109,\"6\":749,\"7\":235,\"8\":190,\"9\":99,\"10\":1000}\n",
    "\n",
    "goods.update({\"11\":999})\n",
    "\n",
    "choice = int(input(\"1. 升序\\n2. 降序\\n> \"))\n",
    "\n",
    "up = int(input(\"上限：\"))\n",
    "down = int(input(\"下限：\"))\n",
    "\n",
    "if choice == 1:\n",
    "    choice = False\n",
    "else:\n",
    "    choice = True\n",
    "\n",
    "sorted_goods = sorted(goods.items(), key=lambda x: x[1], reverse=choice)\n",
    "\n",
    "for i in sorted_goods:\n",
    "    if i[1] >= down and i[1] <= up:\n",
    "        print(i[0], i[1])"
   ]
  },
  {
   "cell_type": "markdown",
   "metadata": {},
   "source": [
    "# 好友管理系统 添加 删除 备注 展示 退出\n"
   ]
  },
  {
   "cell_type": "code",
   "execution_count": null,
   "metadata": {},
   "outputs": [],
   "source": [
    "friends = {}\n",
    "\n",
    "while True:\n",
    "    choice = int(input(\"1. 添加\\n2. 删除\\n3. 备注\\n4. 展示\\n5. 退出\\n> \"))\n",
    "    if choice == 1:\n",
    "        name = input(\"请输入姓名: \")\n",
    "        friends[name] = input(\"请输入备注: \")\n",
    "        \n",
    "    elif choice == 2:\n",
    "        name = input(\"请输入姓名: \")\n",
    "        if name in friends:\n",
    "            del friends[name]\n",
    "        else:\n",
    "            print(\"没有这个人\")\n",
    "    elif choice == 3:\n",
    "        name = input(\"请输入姓名: \")\n",
    "        if name in friends:\n",
    "            friends[name] = input(\"请输入备注: \")\n",
    "        else:\n",
    "            print(\"没有这个人\")\n",
    "    elif choice == 4:\n",
    "        for i in friends:\n",
    "            print(i, friends[i])\n",
    "    elif choice == 5:\n",
    "        break\n",
    "    else:\n",
    "        print(\"输入错误\")        "
   ]
  },
  {
   "cell_type": "markdown",
   "metadata": {},
   "source": [
    "# 随机分配办公室"
   ]
  },
  {
   "cell_type": "code",
   "execution_count": 47,
   "metadata": {},
   "outputs": [
    {
     "name": "stdout",
     "output_type": "stream",
     "text": [
      "情况一：[[2, 3, 8], [1, 4, 5], [6, 7]]\n",
      "情况二：[[2, 8], [3, 4, 7], [1, 5, 6]]\n"
     ]
    }
   ],
   "source": [
    "import random\n",
    "\n",
    "tea = [1, 2, 3, 4, 5, 6, 7, 8]\n",
    "room = [[], [], []]\n",
    "\n",
    "for i in tea:\n",
    "    random.choice(room).append(i)\n",
    "\n",
    "print(f\"情况一：{room}\")\n",
    "\n",
    "for i in room:\n",
    "    i.clear()\n",
    "\n",
    "for i in tea:\n",
    "    rooms =  random.choice(room)\n",
    "    while len(rooms) >= 3:\n",
    "        rooms = random.choice(room)\n",
    "    rooms.append(i)\n",
    "\n",
    "print(f\"情况二：{room}\")\n"
   ]
  },
  {
   "cell_type": "markdown",
   "metadata": {},
   "source": [
    "# 中文数字对照表"
   ]
  },
  {
   "cell_type": "code",
   "execution_count": 56,
   "metadata": {},
   "outputs": [
    {
     "name": "stdout",
     "output_type": "stream",
     "text": [
      "壹贰叁\n"
     ]
    }
   ],
   "source": [
    "capital = \"零壹贰叁肆伍陆柒捌玖\"\n",
    "\n",
    "num = list(input(\"输入阿拉伯数字：\").strip())\n",
    "\n",
    "Upper = []\n",
    "\n",
    "for i in range(len(num)):\n",
    "    Upper.append(capital[int(num[i])])\n",
    "\n",
    "print(\"\".join(Upper))"
   ]
  },
  {
   "cell_type": "markdown",
   "metadata": {},
   "source": [
    "# 模拟双色球福利彩票程序"
   ]
  },
  {
   "cell_type": "code",
   "execution_count": 47,
   "metadata": {},
   "outputs": [
    {
     "name": "stdout",
     "output_type": "stream",
     "text": [
      "开奖结果：[5, 8, 9, 11, 18, 26, 15]\n",
      "你选的球：[1, 4, 9, 19, 21, 31, 15]\n",
      "红球：1，蓝球：1\n",
      "奖金：5块\n"
     ]
    }
   ],
   "source": [
    "\n",
    "import random\n",
    "s1 = []\n",
    "s2 = []\n",
    "\n",
    "def auto_choice(s2):\n",
    "    for i in range(6):\n",
    "        a = random.randint(1, 34)\n",
    "        while a in s2:\n",
    "            a = random.randint(1, 34)\n",
    "        s2.append(a)\n",
    "    s2.sort()\n",
    "    s2.append(random.randint(1, 17))\n",
    "    return s2\n",
    "\n",
    "def handle(s):\n",
    "    for i in range(6):\n",
    "        a = int(input(f\"选择第{i+1}红个球：\"))\n",
    "        while a in s1 and not 0 < a < 34:\n",
    "            a = int(input(f\"选择第{i+1}红个球：\"))\n",
    "        s.append(a)\n",
    "    a = int(input(\"选择蓝球：\"))\n",
    "    while a in s1 and not 0 < a < 17:\n",
    "        a = int(input(\"选择蓝球：\"))\n",
    "    s.append(a)\n",
    "    s.sort()\n",
    "    return s\n",
    "\n",
    "choice = int(input(\"1. 自选\\n2. 机选\\n> \"))\n",
    "\n",
    "if choice == 1:\n",
    "    s2 = handle(s2)\n",
    "else:\n",
    "    s2 = auto_choice(s2)\n",
    "\n",
    "for i in range(6):\n",
    "    a = random.randint(1, 33)\n",
    "    while a in s1:\n",
    "        a = random.randint(1, 33)\n",
    "    s1.append(a)\n",
    "s1.sort()\n",
    "s1.append(random.randint(1, 16))\n",
    "\n",
    "print(f\"开奖结果：{s1}\")\n",
    "\n",
    "print(f\"你选的球：{s2}\")\n",
    "\n",
    "red = 0\n",
    "blue = False\n",
    "\n",
    "for i in s2[:len(s2)-2]:\n",
    "    if i in s1:\n",
    "        red += 1\n",
    "\n",
    "if s2[len(s2)-1] == s1[len(s1)-1]:\n",
    "    blue = True\n",
    "\n",
    "print(f\"红球：{red}，蓝球：{1 if blue else 0}\")\n",
    "\n",
    "if 0 <= red <= 2 and blue:\n",
    "    print(\"奖金：5块\")\n",
    "elif red == 3 and blue or red == 4:\n",
    "    print(\"奖金：十块\")\n",
    "elif red == 4 and blue or red == 5:\n",
    "    print(\"奖金：200块\")\n",
    "elif red == 5 and blue:\n",
    "    print(\"奖金：3000块\")\n",
    "elif red == 6:\n",
    "    print(\"奖金：10万\")\n",
    "elif red == 6 and blue:\n",
    "    print(\"奖金：500万\")\n",
    "else:\n",
    "    print(\"没有中奖\")"
   ]
  },
  {
   "cell_type": "markdown",
   "metadata": {},
   "source": [
    "# 统计单词频率"
   ]
  },
  {
   "cell_type": "code",
   "execution_count": 1,
   "metadata": {},
   "outputs": [
    {
     "name": "stdout",
     "output_type": "stream",
     "text": [
      "2 about\n",
      "1 the\n",
      "1 yes\n"
     ]
    }
   ],
   "source": [
    "words = {}\n",
    "while True:\n",
    "    word = input(\"请输入单词：\").strip()\n",
    "    if word == \"\":\n",
    "        break\n",
    "    else:\n",
    "        if word in words:\n",
    "            words[word] += 1\n",
    "        else:\n",
    "            words[word] = 1\n",
    "sorted_words = sorted(words.items(), key=lambda x: x[1], reverse=True)\n",
    "\n",
    "for i in sorted_words:\n",
    "    print(i[1], i[0])"
   ]
  },
  {
   "cell_type": "markdown",
   "metadata": {},
   "source": [
    "# hamlet文本分析"
   ]
  },
  {
   "cell_type": "code",
   "execution_count": 69,
   "metadata": {},
   "outputs": [
    {
     "name": "stdout",
     "output_type": "stream",
     "text": [
      "('you', 554)\n",
      "('my', 514)\n",
      "('hamlet', 471)\n"
     ]
    }
   ],
   "source": [
    "import string\n",
    "words = \"\"\n",
    "word_count = {}\n",
    "meaningless_words = [\"a\", \"an\", \"the\", \"of\", \"to\", \"i\", \"to\", \"in\", \"on\", \"at\", \"and\", \"it\", \"is\", \"s\", \"be\"]\n",
    "with open(\"hamlet.txt\",\"r\") as f:\n",
    "    words = f.read().lower()\n",
    "\n",
    "for i in string.punctuation:\n",
    "    words = words.replace(i,\" \")\n",
    "\n",
    "words = words.split()\n",
    "\n",
    "for i in words:\n",
    "    if i in word_count:\n",
    "        word_count[i] += 1\n",
    "    else:\n",
    "        word_count[i] = 1\n",
    "\n",
    "word_count_sorted = sorted(word_count.items(), key=lambda x: x[1], reverse=True)\n",
    "\n",
    "for i in range(10):\n",
    "    if(word_count_sorted[i][0] not in meaningless_words):\n",
    "        print(word_count_sorted[i])"
   ]
  },
  {
   "cell_type": "markdown",
   "metadata": {},
   "source": [
    "# 统计不重复的单词"
   ]
  },
  {
   "cell_type": "code",
   "execution_count": 4,
   "metadata": {},
   "outputs": [
    {
     "name": "stdout",
     "output_type": "stream",
     "text": [
      "一共有9个不同的单词\n"
     ]
    }
   ],
   "source": [
    "words = {}\n",
    "\n",
    "while True:\n",
    "    word = input(\"请输入单词：\").strip()\n",
    "    if word == \"\":\n",
    "        break\n",
    "    else:\n",
    "        if word in words:\n",
    "            words[word] += 1\n",
    "        else:\n",
    "            words[word] = 1\n",
    "\n",
    "total = 0\n",
    "for i in words.items(): \n",
    "    if i[1] == 1:\n",
    "        total += 1\n",
    "        # print(i[0], i[1])\n",
    "print(f\"一共有{total}个不同的单词\")"
   ]
  },
  {
   "cell_type": "markdown",
   "metadata": {},
   "source": [
    "# 随机打分"
   ]
  },
  {
   "cell_type": "code",
   "execution_count": 59,
   "metadata": {},
   "outputs": [
    {
     "name": "stdout",
     "output_type": "stream",
     "text": [
      "99\t7\t82\t41\t87\t\n",
      "98\t90\t12\t38\t78\t\n",
      "99\t18\t26\t100\t4\t\n",
      "第1组的平均成绩为63.2\n",
      "第2组的平均成绩为63.2\n",
      "第3组的平均成绩为49.4\n"
     ]
    }
   ],
   "source": [
    "import random\n",
    "stu = []\n",
    "\n",
    "for i in range(3):\n",
    "    stu.append([])\n",
    "    for j in range(5):\n",
    "        stu[i].append(random.randint(0,101))\n",
    "        print(stu[i][j], end=\"\\t\")\n",
    "    print()\n",
    "\n",
    "stuave = []\n",
    "for i in range(3):\n",
    "    sum = 0\n",
    "    for j in range(5):\n",
    "        sum += stu[i][j]\n",
    "    stuave.append(sum/5)\n",
    "    print(f\"第{i+1}组的平均成绩为{sum/5:.1f}\")"
   ]
  }
 ],
 "metadata": {
  "interpreter": {
   "hash": "767d51c1340bd893661ea55ea3124f6de3c7a262a8b4abca0554b478b1e2ff90"
  },
  "kernelspec": {
   "display_name": "Python 3.10.4 64-bit",
   "language": "python",
   "name": "python3"
  },
  "language_info": {
   "codemirror_mode": {
    "name": "ipython",
    "version": 3
   },
   "file_extension": ".py",
   "mimetype": "text/x-python",
   "name": "python",
   "nbconvert_exporter": "python",
   "pygments_lexer": "ipython3",
   "version": "3.10.4"
  },
  "orig_nbformat": 4
 },
 "nbformat": 4,
 "nbformat_minor": 2
}
