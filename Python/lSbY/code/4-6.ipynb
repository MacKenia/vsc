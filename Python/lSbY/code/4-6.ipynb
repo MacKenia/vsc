{
 "cells": [
  {
   "cell_type": "markdown",
   "metadata": {},
   "source": [
    "# 商品价格"
   ]
  },
  {
   "cell_type": "code",
   "execution_count": 2,
   "metadata": {},
   "outputs": [
    {
     "name": "stdout",
     "output_type": "stream",
     "text": [
      "[('2', 4369), ('10', 1000), ('11', 999), ('6', 749), ('3', 539), ('1', 399), ('4', 288), ('7', 235), ('8', 190), ('5', 109), ('9', 99)]\n"
     ]
    }
   ],
   "source": [
    "goods = {\"1\":399,\"2\":4369,\"3\":539,\"4\":288,\"5\":109,\"6\":749,\"7\":235,\"8\":190,\"9\":99,\"10\":1000}\n",
    "\n",
    "goods.update({\"11\":999})\n",
    "\n",
    "sorted_goods = sorted(goods.items(), key=lambda x: x[1], reverse=True)\n",
    "\n",
    "print(sorted_goods)"
   ]
  },
  {
   "cell_type": "markdown",
   "metadata": {},
   "source": [
    "# 好友管理系统 添加 删除 备注 展示 退出\n"
   ]
  },
  {
   "cell_type": "code",
   "execution_count": null,
   "metadata": {},
   "outputs": [],
   "source": []
  },
  {
   "cell_type": "markdown",
   "metadata": {},
   "source": [
    "# 输出二维列表"
   ]
  },
  {
   "cell_type": "code",
   "execution_count": null,
   "metadata": {},
   "outputs": [],
   "source": []
  },
  {
   "cell_type": "markdown",
   "metadata": {},
   "source": [
    "# 乱打分"
   ]
  },
  {
   "cell_type": "code",
   "execution_count": 59,
   "metadata": {},
   "outputs": [
    {
     "name": "stdout",
     "output_type": "stream",
     "text": [
      "99\t7\t82\t41\t87\t\n",
      "98\t90\t12\t38\t78\t\n",
      "99\t18\t26\t100\t4\t\n",
      "第1组的平均成绩为63.2\n",
      "第2组的平均成绩为63.2\n",
      "第3组的平均成绩为49.4\n"
     ]
    }
   ],
   "source": [
    "import random\n",
    "stu = []\n",
    "\n",
    "for i in range(3):\n",
    "    stu.append([])\n",
    "    for j in range(5):\n",
    "        stu[i].append(random.randint(0,101))\n",
    "        print(stu[i][j], end=\"\\t\")\n",
    "    print()\n",
    "\n",
    "stuave = []\n",
    "for i in range(3):\n",
    "    sum = 0\n",
    "    for j in range(5):\n",
    "        sum += stu[i][j]\n",
    "    stuave.append(sum/5)\n",
    "    print(f\"第{i+1}组的平均成绩为{sum/5:.1f}\")"
   ]
  }
 ],
 "metadata": {
  "interpreter": {
   "hash": "767d51c1340bd893661ea55ea3124f6de3c7a262a8b4abca0554b478b1e2ff90"
  },
  "kernelspec": {
   "display_name": "Python 3.10.4 64-bit",
   "language": "python",
   "name": "python3"
  },
  "language_info": {
   "codemirror_mode": {
    "name": "ipython",
    "version": 3
   },
   "file_extension": ".py",
   "mimetype": "text/x-python",
   "name": "python",
   "nbconvert_exporter": "python",
   "pygments_lexer": "ipython3",
   "version": "3.10.4"
  },
  "orig_nbformat": 4
 },
 "nbformat": 4,
 "nbformat_minor": 2
}
