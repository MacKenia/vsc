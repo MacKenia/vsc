{
 "cells": [
  {
   "cell_type": "markdown",
   "metadata": {},
   "source": [
    "# 商品价格"
   ]
  },
  {
   "cell_type": "code",
   "execution_count": 6,
   "metadata": {},
   "outputs": [
    {
     "name": "stdout",
     "output_type": "stream",
     "text": [
      "9 99\n",
      "5 109\n",
      "8 190\n",
      "7 235\n",
      "4 288\n",
      "1 399\n",
      "3 539\n",
      "6 749\n",
      "11 999\n",
      "10 1000\n",
      "2 4369\n"
     ]
    }
   ],
   "source": [
    "goods = {\"1\":399,\"2\":4369,\"3\":539,\"4\":288,\"5\":109,\"6\":749,\"7\":235,\"8\":190,\"9\":99,\"10\":1000}\n",
    "\n",
    "goods.update({\"11\":999})\n",
    "\n",
    "choice = int(input(\"1. 升序\\n2. 降序\\n> \"))\n",
    "\n",
    "if choice == 1:\n",
    "    choice = False\n",
    "else:\n",
    "    choice = True\n",
    "\n",
    "sorted_goods = sorted(goods.items(), key=lambda x: x[1], reverse=choice)\n",
    "\n",
    "for i in sorted_goods:\n",
    "    print(i[0], i[1])"
   ]
  },
  {
   "cell_type": "markdown",
   "metadata": {},
   "source": [
    "# 好友管理系统 添加 删除 备注 展示 退出\n"
   ]
  },
  {
   "cell_type": "code",
   "execution_count": null,
   "metadata": {},
   "outputs": [],
   "source": [
    "friends = {}\n",
    "\n",
    "while True:\n",
    "    choice = int(input(\"1. 添加\\n2. 删除\\n3. 备注\\n4. 展示\\n5. 退出\\n> \"))\n",
    "    if choice == 1:\n",
    "        name = input(\"请输入姓名: \")\n",
    "        friends[name] = input(\"请输入备注: \")\n",
    "        \n",
    "    elif choice == 2:\n",
    "        name = input(\"请输入姓名: \")\n",
    "        if name in friends:\n",
    "            del friends[name]\n",
    "        else:\n",
    "            print(\"没有这个人\")\n",
    "    elif choice == 3:\n",
    "        name = input(\"请输入姓名: \")\n",
    "        if name in friends:\n",
    "            friends[name] = input(\"请输入备注: \")\n",
    "        else:\n",
    "            print(\"没有这个人\")\n",
    "    elif choice == 4:\n",
    "        for i in friends:\n",
    "            print(i, friends[i])\n",
    "    elif choice == 5:\n",
    "        break\n",
    "    else:\n",
    "        print(\"输入错误\")        "
   ]
  },
  {
   "cell_type": "markdown",
   "metadata": {},
   "source": [
    "# 随机分配办公室"
   ]
  },
  {
   "cell_type": "code",
   "execution_count": 47,
   "metadata": {},
   "outputs": [
    {
     "name": "stdout",
     "output_type": "stream",
     "text": [
      "情况一：[[2, 3, 8], [1, 4, 5], [6, 7]]\n",
      "情况二：[[2, 8], [3, 4, 7], [1, 5, 6]]\n"
     ]
    }
   ],
   "source": [
    "import random\n",
    "\n",
    "tea = [1, 2, 3, 4, 5, 6, 7, 8]\n",
    "room = [[], [], []]\n",
    "\n",
    "for i in tea:\n",
    "    random.choice(room).append(i)\n",
    "\n",
    "print(f\"情况一：{room}\")\n",
    "\n",
    "for i in room:\n",
    "    i.clear()\n",
    "\n",
    "for i in tea:\n",
    "    rooms =  random.choice(room)\n",
    "    while len(rooms) >= 3:\n",
    "        rooms = random.choice(room)\n",
    "    rooms.append(i)\n",
    "\n",
    "print(f\"情况二：{room}\")\n"
   ]
  },
  {
   "cell_type": "markdown",
   "metadata": {},
   "source": [
    "# 中文数字对照表"
   ]
  },
  {
   "cell_type": "code",
   "execution_count": 56,
   "metadata": {},
   "outputs": [
    {
     "name": "stdout",
     "output_type": "stream",
     "text": [
      "壹贰叁\n"
     ]
    }
   ],
   "source": [
    "capital = \"零壹贰叁肆伍陆柒捌玖\"\n",
    "\n",
    "num = list(input(\"输入阿拉伯数字：\").strip())\n",
    "\n",
    "Upper = []\n",
    "\n",
    "for i in range(len(num)):\n",
    "    Upper.append(capital[int(num[i])])\n",
    "\n",
    "print(\"\".join(Upper))"
   ]
  },
  {
   "cell_type": "markdown",
   "metadata": {},
   "source": [
    "# 模拟双色球福利彩票程序"
   ]
  },
  {
   "cell_type": "code",
   "execution_count": 57,
   "metadata": {},
   "outputs": [
    {
     "name": "stdout",
     "output_type": "stream",
     "text": [
      "[3, 6, 11, 21, 25, 27, 6]\n",
      "[6, 7, 13, 20, 23, 31, 3]\n"
     ]
    }
   ],
   "source": [
    "s1 = []\n",
    "s2 = []\n",
    "\n",
    "for i in range(6):\n",
    "    a = random.randint(1, 34)\n",
    "    while a in s1:\n",
    "        a = random.randint(1, 34)\n",
    "    s1.append(a)\n",
    "s1.sort()\n",
    "s1.append(random.randint(1, 17))\n",
    "\n",
    "print(s1)\n",
    "\n",
    "for i in range(6):\n",
    "    a = random.randint(1, 34)\n",
    "    while a in s2:\n",
    "        a = random.randint(1, 34)\n",
    "    s2.append(a)\n",
    "s2.sort()\n",
    "s2.append(random.randint(1, 17))\n",
    "\n",
    "print(s2)"
   ]
  },
  {
   "cell_type": "markdown",
   "metadata": {},
   "source": []
  },
  {
   "cell_type": "code",
   "execution_count": null,
   "metadata": {},
   "outputs": [],
   "source": []
  },
  {
   "cell_type": "markdown",
   "metadata": {},
   "source": [
    "# 输出二维列表"
   ]
  },
  {
   "cell_type": "code",
   "execution_count": null,
   "metadata": {},
   "outputs": [],
   "source": []
  },
  {
   "cell_type": "markdown",
   "metadata": {},
   "source": [
    "# 乱打分"
   ]
  },
  {
   "cell_type": "code",
   "execution_count": 59,
   "metadata": {},
   "outputs": [
    {
     "name": "stdout",
     "output_type": "stream",
     "text": [
      "99\t7\t82\t41\t87\t\n",
      "98\t90\t12\t38\t78\t\n",
      "99\t18\t26\t100\t4\t\n",
      "第1组的平均成绩为63.2\n",
      "第2组的平均成绩为63.2\n",
      "第3组的平均成绩为49.4\n"
     ]
    }
   ],
   "source": [
    "import random\n",
    "stu = []\n",
    "\n",
    "for i in range(3):\n",
    "    stu.append([])\n",
    "    for j in range(5):\n",
    "        stu[i].append(random.randint(0,101))\n",
    "        print(stu[i][j], end=\"\\t\")\n",
    "    print()\n",
    "\n",
    "stuave = []\n",
    "for i in range(3):\n",
    "    sum = 0\n",
    "    for j in range(5):\n",
    "        sum += stu[i][j]\n",
    "    stuave.append(sum/5)\n",
    "    print(f\"第{i+1}组的平均成绩为{sum/5:.1f}\")"
   ]
  }
 ],
 "metadata": {
  "interpreter": {
   "hash": "767d51c1340bd893661ea55ea3124f6de3c7a262a8b4abca0554b478b1e2ff90"
  },
  "kernelspec": {
   "display_name": "Python 3.10.4 64-bit",
   "language": "python",
   "name": "python3"
  },
  "language_info": {
   "codemirror_mode": {
    "name": "ipython",
    "version": 3
   },
   "file_extension": ".py",
   "mimetype": "text/x-python",
   "name": "python",
   "nbconvert_exporter": "python",
   "pygments_lexer": "ipython3",
   "version": "3.10.3"
  },
  "orig_nbformat": 4
 },
 "nbformat": 4,
 "nbformat_minor": 2
}
