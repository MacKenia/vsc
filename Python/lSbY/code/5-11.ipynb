{
 "cells": [
  {
   "cell_type": "markdown",
   "metadata": {},
   "source": [
    "# 模拟诗歌输出"
   ]
  },
  {
   "cell_type": "code",
   "execution_count": 2,
   "metadata": {},
   "outputs": [],
   "source": [
    "from tkinter import *\n",
    "win = Tk()\n",
    "\n",
    "\n"
   ]
  },
  {
   "cell_type": "markdown",
   "metadata": {},
   "source": []
  },
  {
   "cell_type": "code",
   "execution_count": 5,
   "metadata": {},
   "outputs": [
    {
     "data": {
      "text/plain": [
       "0"
      ]
     },
     "execution_count": 5,
     "metadata": {},
     "output_type": "execute_result"
    }
   ],
   "source": [
    "import sys\n",
    "from PySide6.QtWidgets import QApplication, QLabel\n",
    "\n",
    "app = QApplication.instance()\n",
    "if app is None:\n",
    "    app = QApplication(sys.argv)\n",
    "# This HTML approach will be valid too!\n",
    "label = QLabel(\"<p>早春不过一棵树</p><p>迟夏写长信</p><p>暮冬式烤雪</p>\")\n",
    "label.show()\n",
    "app.exec()"
   ]
  },
  {
   "cell_type": "code",
   "execution_count": 17,
   "metadata": {},
   "outputs": [
    {
     "data": {
      "text/plain": [
       "0"
      ]
     },
     "execution_count": 17,
     "metadata": {},
     "output_type": "execute_result"
    }
   ],
   "source": [
    "import sys\n",
    "from PySide6.QtWidgets import QApplication, QLabel\n",
    "\n",
    "app = QApplication.instance()\n",
    "if app is None:\n",
    "    app = QApplication(sys.argv)\n",
    "\n",
    "# This HTML approach will be valid too!\n",
    "label = QLabel(\"<font>早春不过一棵树</font><span>迟夏写长信</span><span>暮冬式烤雪</span>\")\n",
    "label.show()\n",
    "app.exec()"
   ]
  },
  {
   "cell_type": "code",
   "execution_count": 2,
   "metadata": {},
   "outputs": [
    {
     "name": "stdout",
     "output_type": "stream",
     "text": [
      "Hello World!\n"
     ]
    },
    {
     "data": {
      "text/plain": [
       "0"
      ]
     },
     "execution_count": 2,
     "metadata": {},
     "output_type": "execute_result"
    }
   ],
   "source": [
    "import sys\n",
    "from PySide6.QtWidgets import QApplication, QPushButton\n",
    "from PySide6.QtCore import Slot\n",
    "\n",
    "@Slot()\n",
    "def say_hello():\n",
    "    print(\"Hello World!\")\n",
    "\n",
    "app = QApplication.instance()\n",
    "if app is None:\n",
    "    app = QApplication(sys.argv)\n",
    "\n",
    "button = QPushButton(\"Click me\")\n",
    "button.clicked.connect(say_hello)\n",
    "button.show()\n",
    "# Run the main Qt loop\n",
    "app.exec()"
   ]
  }
 ],
 "metadata": {
  "interpreter": {
   "hash": "07d511f23801e1f195b6b7d50b95568849e4efbdffa3c97d2a4b0d67793e102b"
  },
  "kernelspec": {
   "display_name": "Python 3.10.3 64-bit (system)",
   "language": "python",
   "name": "python3"
  },
  "language_info": {
   "codemirror_mode": {
    "name": "ipython",
    "version": 3
   },
   "file_extension": ".py",
   "mimetype": "text/x-python",
   "name": "python",
   "nbconvert_exporter": "python",
   "pygments_lexer": "ipython3",
   "version": "3.10.3"
  },
  "orig_nbformat": 4
 },
 "nbformat": 4,
 "nbformat_minor": 2
}
