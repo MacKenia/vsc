{
 "cells": [
  {
   "cell_type": "markdown",
   "metadata": {},
   "source": [
    "# 模拟诗歌输出"
   ]
  },
  {
   "cell_type": "code",
   "execution_count": 3,
   "metadata": {},
   "outputs": [
    {
     "data": {
      "text/plain": [
       "0"
      ]
     },
     "execution_count": 3,
     "metadata": {},
     "output_type": "execute_result"
    }
   ],
   "source": [
    "import sys\n",
    "from PySide6.QtWidgets import QApplication, QLabel\n",
    "\n",
    "app = QApplication.instance()\n",
    "if app is None:\n",
    "    app = QApplication(sys.argv)\n",
    "# This HTML approach will be valid too!\n",
    "label = QLabel(\"<p>早春不过一棵树</p><p>迟夏写长信</p><p>暮冬式烤雪</p>\")\n",
    "label.show()\n",
    "app.exec()"
   ]
  },
  {
   "cell_type": "code",
   "execution_count": 17,
   "metadata": {},
   "outputs": [
    {
     "data": {
      "text/plain": [
       "0"
      ]
     },
     "execution_count": 17,
     "metadata": {},
     "output_type": "execute_result"
    }
   ],
   "source": [
    "import sys\n",
    "from PySide6.QtWidgets import QApplication, QLabel\n",
    "\n",
    "app = QApplication.instance()\n",
    "if app is None:\n",
    "    app = QApplication(sys.argv)\n",
    "\n",
    "# This HTML approach will be valid too!\n",
    "label = QLabel(\"<font>早春不过一棵树</font><span>迟夏写长信</span><span>暮冬式烤雪</span>\")\n",
    "label.show()\n",
    "app.exec()"
   ]
  },
  {
   "cell_type": "code",
   "execution_count": 5,
   "metadata": {},
   "outputs": [
    {
     "data": {
      "text/plain": [
       "0"
      ]
     },
     "execution_count": 5,
     "metadata": {},
     "output_type": "execute_result"
    }
   ],
   "source": [
    "import sys\n",
    "from PySide6.QtWidgets import QApplication, QPushButton\n",
    "from PySide6.QtCore import Slot\n",
    "\n",
    "@Slot()\n",
    "def say_hello():\n",
    "    print(\"Hello World!\")\n",
    "\n",
    "app = QApplication.instance()\n",
    "if app is None:\n",
    "    app = QApplication(sys.argv)\n",
    "\n",
    "button = QPushButton(\"Click me\")\n",
    "button.clicked.connect(say_hello)\n",
    "button.show()\n",
    "# Run the main Qt loop\n",
    "app.exec()\n"
   ]
  },
  {
   "cell_type": "code",
   "execution_count": 14,
   "metadata": {},
   "outputs": [
    {
     "data": {
      "text/plain": [
       "0"
      ]
     },
     "execution_count": 14,
     "metadata": {},
     "output_type": "execute_result"
    }
   ],
   "source": [
    "import sys\n",
    "from PySide6.QtWidgets import QApplication, QPushButton, QLabel, QVBoxLayout, QDialog, QDialogButtonBox\n",
    "\n",
    "def y():\n",
    "    print(\"感谢\")\n",
    "\n",
    "def n():\n",
    "    print(\"再见\")\n",
    "\n",
    "app = QApplication.instance()\n",
    "if app is None:\n",
    "    app = QApplication(sys.argv)\n",
    "\n",
    "form = QDialog()\n",
    "\n",
    "button_y = QPushButton(\"我再想想\")\n",
    "button_n = QPushButton(\"残忍离开\")\n",
    "tip = QLabel(\"确认离开吗?\")\n",
    "\n",
    "button_group = QDialogButtonBox()\n",
    "button_group.addButton(button_y, QDialogButtonBox.YesRole)\n",
    "button_group.addButton(button_n, QDialogButtonBox.NoRole)\n",
    "\n",
    "button_y.clicked.connect(y)\n",
    "button_n.clicked.connect(n)\n",
    "\n",
    "layout = QVBoxLayout()\n",
    "layout.addWidget(tip)\n",
    "layout.addWidget(button_group)\n",
    "\n",
    "form.setLayout(layout)\n",
    "\n",
    "form.show()\n",
    "\n",
    "app.exec()\n"
   ]
  },
  {
   "cell_type": "code",
   "execution_count": 1,
   "metadata": {},
   "outputs": [
    {
     "data": {
      "text/plain": [
       "0"
      ]
     },
     "execution_count": 1,
     "metadata": {},
     "output_type": "execute_result"
    }
   ],
   "source": [
    "import sys\n",
    "from PySide6.QtWidgets import QApplication, QWidget, QGroupBox\n",
    "from PySide6.QtCore import QRect\n",
    "\n",
    "app = QApplication.instance()\n",
    "if app is None:\n",
    "    app = QApplication(sys.argv)\n",
    "\n",
    "widget = QWidget()\n",
    "\n",
    "groupbox = QGroupBox(widget)\n",
    "groupbox.setGeometry(QRect(1, 1, 591, 720))\n",
    "groupbox.setStyleSheet(u\"background: url(photo_2022-04-13_12-05-49.jpg) no-repeat;\")\n",
    "widget.show()\n",
    "\n",
    "app.exec()\n"
   ]
  },
  {
   "cell_type": "code",
   "execution_count": 6,
   "metadata": {},
   "outputs": [],
   "source": [
    "import sys\n",
    "from PySide6.QtWidgets import (QLineEdit, QPushButton, QApplication,\n",
    "    QVBoxLayout, QDialog, QHBoxLayout, QLabel)\n",
    "from PySide6.QtCore import Qt\n",
    "\n",
    "class Form(QDialog):\n",
    "\n",
    "    def __init__(self, parent=None):\n",
    "        super(Form, self).__init__(parent)\n",
    "        # Create widgets\n",
    "        self.user = QLabel(\"用户名: \")\n",
    "        self.passwd = QLabel(\"密   码: \")\n",
    "        self.user_input = QLineEdit()\n",
    "        self.passwd_input = QLineEdit()\n",
    "        self.button = QPushButton(\"登录\")\n",
    "        # Create layout and add widgets\n",
    "        self.main_layout = QVBoxLayout()\n",
    "        self.user_layout = QHBoxLayout()\n",
    "        self.passwd_layout = QHBoxLayout()\n",
    "\n",
    "        self.user_layout.addWidget(self.user)\n",
    "        self.user_layout.addWidget(self.user_input)\n",
    "\n",
    "        self.passwd_layout.addWidget(self.passwd)\n",
    "        self.passwd_layout.addWidget(self.passwd_input)\n",
    "\n",
    "        self.main_layout.addLayout(self.user_layout)\n",
    "        self.main_layout.addLayout(self.passwd_layout)\n",
    "        self.main_layout.addWidget(self.button)\n",
    "        # Set dialog layout\n",
    "        self.setLayout(self.main_layout)\n",
    "        # Add button signal to greetings slot\n",
    "        self.button.clicked.connect(self.greetings)\n",
    "\n",
    "    # Greets the user\n",
    "    def greetings(self):\n",
    "        if self.user_input.text() == \"user1\" and self.passwd_input.text() == \"123\":\n",
    "            dialog = QDialog()\n",
    "            label = QLabel(\"欢迎你, user1\")\n",
    "            label.setAlignment(Qt.AlignCenter)\n",
    "            layout = QVBoxLayout()\n",
    "            layout.addWidget(label)\n",
    "            dialog.setLayout(layout)\n",
    "            dialog.exec()\n",
    "\n",
    "if __name__ == '__main__':\n",
    "    # Create the Qt Application\n",
    "    app = QApplication.instance()\n",
    "    if app is None:\n",
    "        app = QApplication()\n",
    "    # Create and show the form\n",
    "    form = Form()\n",
    "    form.show()\n",
    "    # Run the main Qt loop\n",
    "    app.exec()"
   ]
  },
  {
   "cell_type": "code",
   "execution_count": null,
   "metadata": {},
   "outputs": [],
   "source": [
    "import sys\n",
    "from PySide6.QtWidgets import (QApplication, QWidget, QDialog, QLabel, QPushButton,\n",
    "QVBoxLayout, QHBoxLayout, QLineEdit, QPushButton)\n",
    "from PySide6.QtCore import Qt\n",
    "\n",
    "class cal(QDialog):\n",
    "\n",
    "    def __init__(self, parent=None):\n",
    "        super(cal, self).__init__(parent)\n",
    "        self.plus = QLabel(\"+\")\n",
    "        self.equal = QLabel(\"=\")\n",
    "\n",
    "        self.param_one = QLineEdit()\n",
    "        self.param_two = QLineEdit()\n",
    "        self.result = QLineEdit()\n",
    "\n",
    "        self.button = QPushButton(\"计算\")\n",
    "\n",
    "        self.H_layout = QHBoxLayout()\n",
    "        self.V_layout = QVBoxLayout()\n",
    "\n",
    "        self.button.setFixedWidth(100)\n",
    "\n",
    "        self.H_layout.addWidget(self.param_one)\n",
    "        self.H_layout.addWidget(self.plus)\n",
    "        self.H_layout.addWidget(self.param_two)\n",
    "        self.H_layout.addWidget(self.equal)\n",
    "        self.H_layout.addWidget(self.result)\n",
    "\n",
    "        self.V_layout.addLayout(self.H_layout)  \n",
    "        self.V_layout.addWidget(self.button, 0, Qt.AlignCenter)\n",
    "\n",
    "        self.setLayout(self.V_layout)\n",
    "\n",
    "        self.button.clicked.connect(self.calculate)\n",
    "\n",
    "    def calculate(self):\n",
    "        self.result.setText(str(int(self.param_one.text()) + int(self.param_two.text())))\n",
    "\n",
    "app = QApplication.instance()\n",
    "if not app:\n",
    "    app = QApplication(sys.argv)\n",
    "\n",
    "entity = cal()\n",
    "entity.show()\n",
    "app.exec()\n"
   ]
  }
 ],
 "metadata": {
  "interpreter": {
   "hash": "07d511f23801e1f195b6b7d50b95568849e4efbdffa3c97d2a4b0d67793e102b"
  },
  "kernelspec": {
   "display_name": "Python 3.10.3 64-bit (system)",
   "language": "python",
   "name": "python3"
  },
  "language_info": {
   "codemirror_mode": {
    "name": "ipython",
    "version": 3
   },
   "file_extension": ".py",
   "mimetype": "text/x-python",
   "name": "python",
   "nbconvert_exporter": "python",
   "pygments_lexer": "ipython3",
   "version": "3.10.3"
  },
  "orig_nbformat": 4
 },
 "nbformat": 4,
 "nbformat_minor": 2
}
