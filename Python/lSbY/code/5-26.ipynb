{
 "cells": [
  {
   "cell_type": "markdown",
   "metadata": {},
   "source": [
    "# 弹出窗口"
   ]
  },
  {
   "cell_type": "code",
   "execution_count": 8,
   "metadata": {},
   "outputs": [],
   "source": [
    "import sys\n",
    "from PySide6.QtWidgets import (QApplication, QDialog, QTextEdit, QPushButton, QVBoxLayout, QLineEdit, QHBoxLayout)\n",
    "from PySide6.QtCore import Qt\n",
    "\n",
    "class win(QDialog):\n",
    "    def __init__(self):\n",
    "        super().__init__()\n",
    "\n",
    "        self.setWindowTitle(\"查找\")\n",
    "\n",
    "        self.button = QPushButton(\"查找\")\n",
    "        self.text = QTextEdit()\n",
    "\n",
    "        self.main = QVBoxLayout()\n",
    "\n",
    "        self.main.addWidget(self.button)\n",
    "        self.main.addWidget(self.text)\n",
    "\n",
    "        self.setLayout(self.main)\n",
    "\n",
    "        self.button.clicked.connect(self.search)\n",
    "\n",
    "        self.show()\n",
    "\n",
    "    def search(self):\n",
    "        self.subW = QDialog()\n",
    "        self.subW.setWindowTitle(\"查找\")\n",
    "        self.sButton = QPushButton(\"查找\")\n",
    "        self.input = QLineEdit()\n",
    "        self.sBox = QHBoxLayout()\n",
    "        self.sBox.addWidget(self.input)\n",
    "        self.sBox.addWidget(self.sButton)\n",
    "        self.subW.setLayout(self.sBox)\n",
    "        self.subW.exec()\n",
    "        pass\n",
    "\n",
    "if __name__ == \"__main__\":\n",
    "    app = QApplication.instance()\n",
    "    if not app:\n",
    "        app = QApplication(sys.argv)\n",
    "    m = win()\n",
    "    app.exec()"
   ]
  },
  {
   "cell_type": "markdown",
   "metadata": {},
   "source": [
    "# 菜单"
   ]
  },
  {
   "cell_type": "code",
   "execution_count": 11,
   "metadata": {},
   "outputs": [],
   "source": [
    "import sys\n",
    "from PySide6.QtWidgets import (QMainWindow, QMenu, QApplication)\n",
    "from PySide6.QtCore import (Qt)\n",
    "from PySide6.QtGui import (QAction, QActionGroup)\n",
    "\n",
    "class m(QMainWindow):\n",
    "    def __init__(self):\n",
    "        super().__init__()\n",
    "\n",
    "        self.setWindowTitle(\"Menu\")\n",
    "\n",
    "        self.file = QMenu(\"城市\")\n",
    "        self.edit = QMenu(\"修改\")\n",
    "        self.help = QMenu(\"退出\")\n",
    "\n",
    "        self.new = QAction(\"北京\", self)\n",
    "        self.open = QAction(\"上海\", self)\n",
    "        self.save = QAction(\"重庆\", self)\n",
    "        self.save_as = QAction(\"广州\", self)\n",
    "        self.quit = QAction(\"深圳\", self)\n",
    "\n",
    "\n",
    "        self.file.addAction(self.new)\n",
    "        self.file.addAction(self.open)\n",
    "        self.file.addAction(self.save)\n",
    "        self.file.addAction(self.save_as)\n",
    "        self.file.addAction(self.quit)\n",
    "\n",
    "        self.menuBar().addMenu(self.file)\n",
    "        self.menuBar().addMenu(self.edit)\n",
    "        self.menuBar().addMenu(self.help)\n",
    "\n",
    "\n",
    "        self.show()\n",
    "\n",
    "if __name__ == \"__main__\":\n",
    "    app = QApplication.instance()\n",
    "    if not app:\n",
    "        app = QApplication(sys.argv)\n",
    "    m = m()\n",
    "    app.exec()"
   ]
  },
  {
   "cell_type": "markdown",
   "metadata": {},
   "source": [
    "# 右键菜单"
   ]
  },
  {
   "cell_type": "code",
   "execution_count": 14,
   "metadata": {},
   "outputs": [],
   "source": [
    "import sys\n",
    "from PySide6.QtWidgets import (QApplication, QDialog, QMenu, QGroupBox)\n",
    "from PySide6.QtGui import (QAction, QCursor)\n",
    "from PySide6.QtCore import Qt\n",
    "\n",
    "class right(QDialog):\n",
    "    def __init__(self):\n",
    "        super().__init__()\n",
    "\n",
    "        self.setWindowTitle(\"右键菜单\")\n",
    "        self.setContextMenuPolicy(Qt.CustomContextMenu)\n",
    "        self.customContextMenuRequested.connect(self.create_right)\n",
    "\n",
    "        self.show()\n",
    "\n",
    "    def create_right(self):\n",
    "        self.groupBox_menu = QMenu(self)\n",
    " \n",
    "        self.actionA = QAction('复制',self)\n",
    "        self.actionA.setShortcut('Ctrl+C')\n",
    "        self.groupBox_menu.addAction(self.actionA)\n",
    " \n",
    "        self.actionB = QAction('粘贴',self)\n",
    "        self.groupBox_menu.addAction(self.actionB)\n",
    " \n",
    "        self.groupBox_menu.popup(QCursor.pos())\n",
    "\n",
    " \n",
    "if __name__ == \"__main__\":\n",
    "    app = QApplication.instance()\n",
    "    if not app:\n",
    "        app = QApplication(sys.argv)\n",
    "    m = right()\n",
    "    app.exec()"
   ]
  },
  {
   "cell_type": "markdown",
   "metadata": {},
   "source": [
    "# 学生信息管理"
   ]
  },
  {
   "cell_type": "code",
   "execution_count": null,
   "metadata": {},
   "outputs": [],
   "source": [
    "import sys\n",
    "from PySide6.QtWidgets import (QApplication, QPushButton, QMenu)\n",
    "from PySide6.QtCore import Qt\n",
    "from PySide6.QtGui import QAction"
   ]
  }
 ],
 "metadata": {
  "interpreter": {
   "hash": "767d51c1340bd893661ea55ea3124f6de3c7a262a8b4abca0554b478b1e2ff90"
  },
  "kernelspec": {
   "display_name": "Python 3.10.4 64-bit",
   "language": "python",
   "name": "python3"
  },
  "language_info": {
   "codemirror_mode": {
    "name": "ipython",
    "version": 3
   },
   "file_extension": ".py",
   "mimetype": "text/x-python",
   "name": "python",
   "nbconvert_exporter": "python",
   "pygments_lexer": "ipython3",
   "version": "3.10.4"
  },
  "orig_nbformat": 4
 },
 "nbformat": 4,
 "nbformat_minor": 2
}
