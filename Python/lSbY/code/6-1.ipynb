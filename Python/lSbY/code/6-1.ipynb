{
 "cells": [
  {
   "cell_type": "markdown",
   "metadata": {},
   "source": [
    "# Request 对象的5个常用属性的名称和主要功能\n",
    "\n",
    "## 一、"
   ]
  },
  {
   "cell_type": "markdown",
   "metadata": {},
   "source": [
    "# 简要说明requests库的get方法、head方法、post方法的主要功能\n",
    "\n",
    "## GET\n",
    "从服务器中获取资源，在带参数的请求时不安全\n",
    "\n",
    "## HEAD\n",
    "查看请求信息中的 headers 参数中的信息\n",
    "\n",
    "## POST\n",
    "向服务器发送资源，同时也可以请求资源，请求资源时相对安全"
   ]
  },
  {
   "cell_type": "markdown",
   "metadata": {},
   "source": [
    "# 简要说明requests.request(method,url,** kwargs)方法中，** kwargs可选参数params、data、headers和timeout的主要功能。\n",
    "\n",
    "### Params\n",
    "发送GET请求时的参数，用于向服务器请求资源\n",
    "\n",
    "### Data\n",
    "发送POST请求时所携带的参数，可以向服务器发送信息\n",
    "\n",
    "### Headers\n",
    "消息头，允许客户端和服务器通过 request 和 response 传递附加信息\n",
    "\n",
    "### Timeout\n",
    "超时，当访问时间超过设定的时间则会抛出异常"
   ]
  },
  {
   "cell_type": "markdown",
   "metadata": {},
   "source": [
    "# 谈谈你对robots协议的理解\n",
    "\n",
    "有了协议就相当于有了相应的标准，爬虫就可以按照标准进行活动，爬虫的各种行为进行约束，规避法律上的风险，防止隐私的泄露等等，同时还可以减轻服务器的压力。"
   ]
  },
  {
   "cell_type": "markdown",
   "metadata": {},
   "source": [
    "#### 从智联招聘网站中找到一个某个职位的页面，print 该页面文本信息"
   ]
  },
  {
   "cell_type": "code",
   "execution_count": null,
   "metadata": {},
   "outputs": [],
   "source": [
    "import requests\n",
    "\n",
    "url = \"https://jobs.zhaopin.com/CC813912470J40108228308.htm\"\n",
    "\n",
    "headers = {\n",
    "    \"User-Agent\": \"Mozilla/5.0 (Windows NT 10.0; Win64; x64) AppleWebKit/537.36 (KHTML, like Gecko) Chrome/80.0.3987.149 Safari/537.36\"\n",
    "}\n",
    "\n",
    "r = requests.get(url, headers=headers)\n",
    "\n",
    "print(r.text)"
   ]
  },
  {
   "cell_type": "markdown",
   "metadata": {},
   "source": [
    "# 狗东"
   ]
  },
  {
   "cell_type": "code",
   "execution_count": null,
   "metadata": {},
   "outputs": [],
   "source": [
    "import requests as rq\n",
    "\n",
    "url = \"http://search.jd.com/Search\"\n",
    "\n",
    "key = input(\"请输入搜索关键字：\")\n",
    "\n",
    "r = rq.get(url, params={\"keyword\": key}, headers={\"User-Agent\": \"Mozilla/5.0 (Windows NT 10.0; Win64; x64) AppleWebKit/537.36 (KHTML, like Gecko) Chrome/80.0.3987.149 Safari/537.36\"})\n",
    "\n",
    "print(r.text)"
   ]
  },
  {
   "cell_type": "markdown",
   "metadata": {},
   "source": [
    "# 下载媒体文件"
   ]
  },
  {
   "cell_type": "code",
   "execution_count": null,
   "metadata": {},
   "outputs": [],
   "source": [
    "import requests as rq\n",
    "import time\n",
    "\n",
    "url = input(\"请输入地址：\")\n",
    "\n",
    "with open(time.strftime(\"%Y-%m-%d\")) as f:\n",
    "    f.write(rq.get(url).content)"
   ]
  },
  {
   "cell_type": "markdown",
   "metadata": {},
   "source": [
    "# 针对页面 `http://python123.io/ws/demo.html` 完成如下功能"
   ]
  },
  {
   "cell_type": "code",
   "execution_count": 9,
   "metadata": {},
   "outputs": [
    {
     "name": "stdout",
     "output_type": "stream",
     "text": [
      "<html><head><title>This is a python demo page</title></head>\n",
      "<body>\n",
      "<p class=\"title\"><b>The demo python introduces several python courses.</b></p>\n",
      "<p class=\"course\">Python is a wonderful general-purpose programming language. You can learn Python from novice to professional by tracking the following courses:\n",
      "<a href=\"http://www.icourse163.org/course/BIT-268001\" class=\"py1\" id=\"link1\">Basic Python</a> and <a href=\"http://www.icourse163.org/course/BIT-1001870001\" class=\"py2\" id=\"link2\">Advanced Python</a>.</p>\n",
      "</body></html>\n"
     ]
    }
   ],
   "source": [
    "import requests as rq\n",
    "import bs4\n",
    "\n",
    "url = \"http://python123.io/ws/demo.html\"\n",
    "\n",
    "r = rq.get(url)\n",
    "\n",
    "print(r.text)\n",
    "\n",
    "rs = bs4.BeautifulSoup(r.text, \"html.parser\")"
   ]
  },
  {
   "cell_type": "markdown",
   "metadata": {},
   "source": [
    "#### 输出第一个 a 标签的名称、属性和标签内的非属性文字。"
   ]
  },
  {
   "cell_type": "code",
   "execution_count": 13,
   "metadata": {},
   "outputs": [
    {
     "name": "stdout",
     "output_type": "stream",
     "text": [
      "a\n",
      "{'href': 'http://www.icourse163.org/course/BIT-268001', 'class': ['py1'], 'id': 'link1'}\n",
      "Basic Python\n"
     ]
    }
   ],
   "source": [
    "print(f\"{rs.a.name}\\n{rs.a.attrs}\\n{rs.a.string}\")"
   ]
  },
  {
   "cell_type": "markdown",
   "metadata": {},
   "source": [
    "#### 输出body标签的所有儿子标签"
   ]
  },
  {
   "cell_type": "code",
   "execution_count": 19,
   "metadata": {},
   "outputs": [
    {
     "name": "stdout",
     "output_type": "stream",
     "text": [
      "p\n",
      "p\n"
     ]
    }
   ],
   "source": [
    "for i in rs.body.children:\n",
    "    if i.name != None:\n",
    "        print(i.name)"
   ]
  },
  {
   "cell_type": "markdown",
   "metadata": {},
   "source": [
    "输出body标签的所有子孙标签的名称、属性和标签内非属性字符串"
   ]
  },
  {
   "cell_type": "code",
   "execution_count": 21,
   "metadata": {},
   "outputs": [
    {
     "name": "stdout",
     "output_type": "stream",
     "text": [
      "p\n",
      "{'class': ['title']}\n",
      "The demo python introduces several python courses.\n",
      "p\n",
      "{'class': ['course']}\n",
      "Python is a wonderful general-purpose programming language. You can learn Python from novice to professional by tracking the following courses:\n",
      "\n",
      "Basic Python\n",
      " and \n",
      "Advanced Python\n",
      ".\n"
     ]
    }
   ],
   "source": [
    "for i in rs.body.children:\n",
    "    if i.name != None:\n",
    "        print(i.name)\n",
    "        print(i.attrs)\n",
    "        for j in i.children:\n",
    "            print(j.string)"
   ]
  },
  {
   "cell_type": "markdown",
   "metadata": {},
   "source": [
    "输出a标签的所有父标签"
   ]
  },
  {
   "cell_type": "code",
   "execution_count": 26,
   "metadata": {},
   "outputs": [
    {
     "name": "stdout",
     "output_type": "stream",
     "text": [
      "p\n",
      "p\n"
     ]
    }
   ],
   "source": [
    "for i in rs.findAll(\"a\"):\n",
    "    print(i.parent.name)"
   ]
  },
  {
   "cell_type": "markdown",
   "metadata": {},
   "source": [
    "输出a的所有后续节点标签"
   ]
  },
  {
   "cell_type": "code",
   "execution_count": 33,
   "metadata": {},
   "outputs": [
    {
     "name": "stdout",
     "output_type": "stream",
     "text": [
      " and \n",
      "Advanced Python\n",
      ".\n"
     ]
    }
   ],
   "source": [
    "for i in rs.a.next_siblings:\n",
    "    if i.name != None:\n",
    "        print(i.name)"
   ]
  },
  {
   "cell_type": "markdown",
   "metadata": {},
   "source": [
    "输出a的所有前序续节点标签"
   ]
  },
  {
   "cell_type": "code",
   "execution_count": 34,
   "metadata": {},
   "outputs": [],
   "source": [
    "for i in rs.a.previous_siblings:\n",
    "    if i.name != None:\n",
    "        print(i.name)"
   ]
  }
 ],
 "metadata": {
  "interpreter": {
   "hash": "767d51c1340bd893661ea55ea3124f6de3c7a262a8b4abca0554b478b1e2ff90"
  },
  "kernelspec": {
   "display_name": "Python 3.10.4 64-bit",
   "language": "python",
   "name": "python3"
  },
  "language_info": {
   "codemirror_mode": {
    "name": "ipython",
    "version": 3
   },
   "file_extension": ".py",
   "mimetype": "text/x-python",
   "name": "python",
   "nbconvert_exporter": "python",
   "pygments_lexer": "ipython3",
   "version": "3.10.3"
  },
  "orig_nbformat": 4
 },
 "nbformat": 4,
 "nbformat_minor": 2
}
