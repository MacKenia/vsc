{
 "cells": [
  {
   "cell_type": "markdown",
   "metadata": {},
   "source": [
    "#### 简述BeautifulSoup类中标签的基本元素\n",
    "\n",
    "Tag 标签，最基本的信息组织单元，分别用`<>`和`</>`标明开头和结尾\n",
    "\n",
    "Name 标签的名字，`<p>`…`</p>`的名字是'p'，格式：`<tag>.name`\n",
    "\n",
    "Attributes 标签的属性，字典形式组织，格式：`<tag>.attrs`\n",
    "\n",
    "NavigableString 标签内非属性字符串，`<>…</>`中字符串，格式：`<tag>.string`\n",
    "\n",
    "Comment 标签内字符串的注释部分，一种特殊的Comment类型\n"
   ]
  },
  {
   "cell_type": "markdown",
   "metadata": {},
   "source": [
    "#### 简述BeautifulSoup类中contents、children和descendants的作用\n",
    "\n",
    ".contents 子节点的列表，将`<tag>`所有儿子节点存入列表\n",
    "\n",
    ".children 子节点的迭代类型，与.contents类似，用于循环遍历儿子节点\n",
    "\n",
    ".descendants 子孙节点的迭代类型，包含所有子孙节点，用于循环遍\n"
   ]
  },
  {
   "cell_type": "markdown",
   "metadata": {},
   "source": [
    "#### 谈谈什么是平行遍历\n",
    "\n",
    "平行遍历是在树状结构中，处于同一层之间的节点的遍历"
   ]
  },
  {
   "cell_type": "markdown",
   "metadata": {},
   "source": [
    "#### 针对页面：http:/python123.io/ws/demo.html,写程序完成如下功能："
   ]
  },
  {
   "cell_type": "code",
   "execution_count": 9,
   "metadata": {},
   "outputs": [
    {
     "name": "stdout",
     "output_type": "stream",
     "text": [
      "<html><head><title>This is a python demo page</title></head>\n",
      "<body>\n",
      "<p class=\"title\"><b>The demo python introduces several python courses.</b></p>\n",
      "<p class=\"course\">Python is a wonderful general-purpose programming language. You can learn Python from novice to professional by tracking the following courses:\n",
      "<a class=\"py1\" href=\"http://www.icourse163.org/course/BIT-268001\" id=\"link1\">Basic Python</a> and <a class=\"py2\" href=\"http://www.icourse163.org/course/BIT-1001870001\" id=\"link2\">Advanced Python</a>.</p>\n",
      "</body></html>\n"
     ]
    }
   ],
   "source": [
    "import requests as rts\n",
    "import bs4\n",
    "\n",
    "r = bs4.BeautifulSoup(rts.get(\"http://python123.io/ws/demo.html\").text, \"html.parser\")\n",
    "\n",
    "print(r)"
   ]
  },
  {
   "cell_type": "markdown",
   "metadata": {},
   "source": [
    "##### (1) 输出第一个a标签的名字、属性和标签包含的非属性字符串"
   ]
  },
  {
   "cell_type": "code",
   "execution_count": 4,
   "metadata": {},
   "outputs": [
    {
     "name": "stdout",
     "output_type": "stream",
     "text": [
      "名字: a, 属性: {'href': 'http://www.icourse163.org/course/BIT-268001', 'class': ['py1'], 'id': 'link1'}, 字符串Basic Python\n"
     ]
    }
   ],
   "source": [
    "a = r.find(\"a\")\n",
    "print(f\"名字: {a.name}, 属性: {a.attrs}, 字符串{a.string}\")"
   ]
  },
  {
   "cell_type": "markdown",
   "metadata": {},
   "source": [
    "##### (2) 利用contents输出body标签的所有子标签的名字"
   ]
  },
  {
   "cell_type": "code",
   "execution_count": 8,
   "metadata": {},
   "outputs": [
    {
     "name": "stdout",
     "output_type": "stream",
     "text": [
      "None\n",
      "p\n",
      "None\n",
      "p\n",
      "None\n"
     ]
    }
   ],
   "source": [
    "for i in r.body.contents:\n",
    "    print(i.name)"
   ]
  },
  {
   "cell_type": "markdown",
   "metadata": {},
   "source": [
    "##### (3) 利用children输出body标签的所有子标签的名字"
   ]
  },
  {
   "cell_type": "code",
   "execution_count": 10,
   "metadata": {},
   "outputs": [
    {
     "name": "stdout",
     "output_type": "stream",
     "text": [
      "None\n",
      "p\n",
      "None\n",
      "p\n",
      "None\n"
     ]
    }
   ],
   "source": [
    "for i in r.body.contents:\n",
    "    print(i.name)"
   ]
  },
  {
   "cell_type": "markdown",
   "metadata": {},
   "source": [
    "##### (4) 输出该页面的所有标签的名字"
   ]
  },
  {
   "cell_type": "code",
   "execution_count": 11,
   "metadata": {},
   "outputs": [
    {
     "name": "stdout",
     "output_type": "stream",
     "text": [
      "None\n",
      "p\n",
      "b\n",
      "None\n",
      "None\n",
      "p\n",
      "None\n",
      "a\n",
      "None\n",
      "None\n",
      "a\n",
      "None\n",
      "None\n",
      "None\n"
     ]
    }
   ],
   "source": [
    "for i in r.body.descendants:\n",
    "    print(i.name)"
   ]
  },
  {
   "cell_type": "markdown",
   "metadata": {},
   "source": [
    "##### (5) 输出所有a标签的href属性对应的值"
   ]
  },
  {
   "cell_type": "code",
   "execution_count": 15,
   "metadata": {},
   "outputs": [
    {
     "name": "stdout",
     "output_type": "stream",
     "text": [
      "http://www.icourse163.org/course/BIT-268001\n",
      "http://www.icourse163.org/course/BIT-1001870001\n"
     ]
    }
   ],
   "source": [
    "for i in r.find_all(\"a\"):\n",
    "    print(i.attrs[\"href\"])"
   ]
  },
  {
   "cell_type": "markdown",
   "metadata": {},
   "source": [
    "##### (6) 输出第一个a标签的所有下行标签"
   ]
  },
  {
   "cell_type": "code",
   "execution_count": 16,
   "metadata": {},
   "outputs": [
    {
     "name": "stdout",
     "output_type": "stream",
     "text": [
      "None\n"
     ]
    }
   ],
   "source": [
    "for i in r.find(\"a\").descendants:\n",
    "    print(i.name)"
   ]
  },
  {
   "cell_type": "markdown",
   "metadata": {},
   "source": [
    "#### 根据给出的“实例1中国大学定向爬虫”，自己实践完成该程序。要求：增加一项功能，即将取得排名信息不仅print到屏幕上，还需要保存到本地"
   ]
  },
  {
   "cell_type": "code",
   "execution_count": null,
   "metadata": {},
   "outputs": [],
   "source": [
    "\n",
    "import requests as rts\n",
    "import bs4, re\n",
    "\n",
    "url = \"https://www.shanghairanking.cn/rankings/bcur/2022\"\n",
    "\n",
    "r = rts.get(url)\n",
    "r.encoding = r.apparent_encoding\n",
    "rb = bs4.BeautifulSoup(r.text, 'html.parser')\n",
    "\n",
    "rank = rb.find_all('td', recursive=True)\n",
    "\n",
    "result = [[\"排名\", \"学校\", \"分数\"]]\n",
    "\n",
    "for i in range(0,len(rank),6):\n",
    "    sub = []\n",
    "    for j in range(6):\n",
    "        if(j == 2 or j == 3 or j == 4):\n",
    "            continue\n",
    "        if(j == 1):\n",
    "            sub.append(rank[i+j].find('a').text.strip())\n",
    "            # print(rank[i+j].find('a').text.strip(), end='\\t')\n",
    "            continue\n",
    "        sub.append(rank[i+j].text.strip())\n",
    "        # print(rank[i+j].text.strip(), end='\\t')\n",
    "    result.append(sub)\n",
    "    # print(\"\")\n",
    "\n",
    "for i in result:\n",
    "    print(f\"{i[0]}\\t\\t{i[1]}\\t\\t\\t{i[2]}\")\n",
    "\n",
    "with open(\"ranking.txt\", \"w\") as f:\n",
    "    for i in result:\n",
    "        f.write(f\"{i[0]}\\t\\t{i[1]}\\t\\t\\t{i[2]}\\n\");"
   ]
  }
 ],
 "metadata": {
  "interpreter": {
   "hash": "767d51c1340bd893661ea55ea3124f6de3c7a262a8b4abca0554b478b1e2ff90"
  },
  "kernelspec": {
   "display_name": "Python 2.7.17 64-bit",
   "language": "python",
   "name": "python3"
  },
  "language_info": {
   "codemirror_mode": {
    "name": "ipython",
    "version": 3
   },
   "file_extension": ".py",
   "mimetype": "text/x-python",
   "name": "python",
   "nbconvert_exporter": "python",
   "pygments_lexer": "ipython3",
   "version": "3.10.3"
  },
  "orig_nbformat": 4
 },
 "nbformat": 4,
 "nbformat_minor": 2
}
