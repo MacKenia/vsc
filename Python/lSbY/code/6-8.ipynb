{
 "cells": [
  {
   "cell_type": "code",
   "execution_count": null,
   "metadata": {},
   "outputs": [],
   "source": [
    "import requests as rts\n",
    "import bs4\n",
    "\n",
    "b = bs4(rts.get('https://www.google.com').text, 'html.parser')\n",
    "for i in b.descendants:\n",
    "    if isinstance(i, bs4.element.Tag):\n",
    "        print(i.name)"
   ]
  },
  {
   "cell_type": "markdown",
   "metadata": {},
   "source": [
    "# 中国大学排名"
   ]
  },
  {
   "cell_type": "code",
   "execution_count": 30,
   "metadata": {},
   "outputs": [
    {
     "name": "stdout",
     "output_type": "stream",
     "text": [
      "排名\t\t学校\t\t\t分数\n",
      "1\t\t清华大学\t\t\t37.6\n",
      "2\t\t北京大学\t\t\t34.4\n",
      "3\t\t浙江大学\t\t\t34.1\n",
      "4\t\t上海交通大学\t\t\t35.5\n",
      "5\t\t复旦大学\t\t\t35.9\n",
      "6\t\t南京大学\t\t\t37.7\n",
      "7\t\t中国科学技术大学\t\t\t40.0\n",
      "8\t\t华中科技大学\t\t\t32.3\n",
      "9\t\t武汉大学\t\t\t32.8\n",
      "10\t\t西安交通大学\t\t\t34.2\n",
      "11\t\t四川大学\t\t\t32.0\n",
      "12\t\t中山大学\t\t\t31.4\n",
      "13\t\t哈尔滨工业大学\t\t\t32.7\n",
      "14\t\t同济大学\t\t\t32.8\n",
      "15\t\t北京航空航天大学\t\t\t33.2\n",
      "16\t\t东南大学\t\t\t34.9\n",
      "17\t\t北京师范大学\t\t\t34.6\n",
      "18\t\t北京理工大学\t\t\t33.1\n",
      "19\t\t中国人民大学\t\t\t34.2\n",
      "20\t\t南开大学\t\t\t31.3\n",
      "21\t\t天津大学\t\t\t33.0\n",
      "22\t\t山东大学\t\t\t29.2\n",
      "23\t\t中南大学\t\t\t30.7\n",
      "24\t\t西北工业大学\t\t\t32.7\n",
      "25\t\t华南理工大学\t\t\t30.8\n",
      "26\t\t厦门大学\t\t\t33.7\n",
      "27\t\t吉林大学\t\t\t31.2\n",
      "28\t\t华东师范大学\t\t\t32.6\n",
      "29\t\t中国农业大学\t\t\t31.9\n",
      "30\t\t电子科技大学\t\t\t32.3\n"
     ]
    }
   ],
   "source": [
    "\n",
    "import requests as rts\n",
    "import bs4, re\n",
    "\n",
    "url = \"https://www.shanghairanking.cn/rankings/bcur/2022\"\n",
    "\n",
    "r = rts.get(url)\n",
    "r.encoding = r.apparent_encoding\n",
    "rb = bs4.BeautifulSoup(r.text, 'html.parser')\n",
    "\n",
    "rank = rb.find_all('td', recursive=True)\n",
    "\n",
    "result = [[\"排名\", \"学校\", \"分数\"]]\n",
    "\n",
    "for i in range(0,len(rank),6):\n",
    "    sub = []\n",
    "    for j in range(6):\n",
    "        if(j == 2 or j == 3 or j == 4):\n",
    "            continue\n",
    "        if(j == 1):\n",
    "            sub.append(rank[i+j].find('a').text.strip())\n",
    "            # print(rank[i+j].find('a').text.strip(), end='\\t')\n",
    "            continue\n",
    "        sub.append(rank[i+j].text.strip())\n",
    "        # print(rank[i+j].text.strip(), end='\\t')\n",
    "    result.append(sub)\n",
    "    # print(\"\")\n",
    "\n",
    "for i in result:\n",
    "    print(f\"{i[0]}\\t\\t{i[1]}\\t\\t\\t{i[2]}\")"
   ]
  }
 ],
 "metadata": {
  "interpreter": {
   "hash": "767d51c1340bd893661ea55ea3124f6de3c7a262a8b4abca0554b478b1e2ff90"
  },
  "kernelspec": {
   "display_name": "Python 2.7.17 64-bit",
   "language": "python",
   "name": "python3"
  },
  "language_info": {
   "codemirror_mode": {
    "name": "ipython",
    "version": 3
   },
   "file_extension": ".py",
   "mimetype": "text/x-python",
   "name": "python",
   "nbconvert_exporter": "python",
   "pygments_lexer": "ipython3",
   "version": "3.10.5"
  },
  "orig_nbformat": 4
 },
 "nbformat": 4,
 "nbformat_minor": 2
}
