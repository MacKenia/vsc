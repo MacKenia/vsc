{
 "cells": [
  {
   "cell_type": "markdown",
   "metadata": {},
   "source": [
    "# 数值型 🔟\n",
    "1. 整型(int)\n",
    "   1. 长整型\n",
    "   2. 短整型\n",
    "   3. 强制类型转换: `int(x,[base])`\n",
    "2. 浮点型(float)\n",
    "   1. 双精度\n",
    "   2. 单精度\n",
    "   3. 强制类型转换：`float(x)`\n",
    "3. 布尔型(bool)\n",
    "   1. 强制类型转换：`bool(x)`\n",
    "4. 复数(complex)\n",
    "   1. 强制类型转换：`complex(x)`"
   ]
  },
  {
   "cell_type": "code",
   "execution_count": 1,
   "metadata": {},
   "outputs": [
    {
     "name": "stdout",
     "output_type": "stream",
     "text": [
      "True\n"
     ]
    }
   ],
   "source": [
    "a = 1\n",
    "b = 3.14\n",
    "c = 2e2\n",
    "d = 2e-2\n",
    "\n",
    "e = 3 + 2j\n",
    "f = complex(3, 2)\n",
    "\n",
    "print(isinstance(a, int))\n"
   ]
  },
  {
   "cell_type": "markdown",
   "metadata": {},
   "source": [
    "# 字符类型 💭\n",
    "1. 字符串\n",
    "   1. 定义符号：`'` `\"` `\"\"\"`\n",
    "   2. 占位符：`%s` `{}` `{variate}`\n",
    "   3. `format()` 方法\n",
    "\n",
    "符号|说明\n",
    "--|--\n",
    "%s|字符串\n",
    "%d|十进制整型\n",
    "%o|八进制整型\n",
    "%x|十六进制整型(a~z)\n",
    "%X|十六进制整型(A~Z)\n",
    "%e|指数(底数写为e)\n",
    "%f|浮点数"
   ]
  },
  {
   "cell_type": "code",
   "execution_count": 1,
   "metadata": {},
   "outputs": [
    {
     "name": "stdout",
     "output_type": "stream",
     "text": [
      "你好我叫李强,今年12岁了\n",
      "你好我叫李强,今年12岁了\n",
      "你好我叫李强,今年12岁了\n"
     ]
    }
   ],
   "source": [
    "name = \"李强\"\n",
    "age = 12\n",
    "\n",
    "print(\"你好我叫%s,今年%d岁了\"%(name,age))\n",
    "print(\"你好我叫{},今年{}岁了\".format(name,age))\n",
    "print(f\"你好我叫{name},今年{age}岁了\")"
   ]
  },
  {
   "cell_type": "markdown",
   "metadata": {},
   "source": [
    "# 运算符 ➗\n",
    "1. 算数运算符\n",
    "\n",
    "运算符|描述\n",
    "-|--\n",
    "+|加-两个对象相加\n",
    "-|减-得到负数或者一个数减去另一个数\n",
    "*|乘-两个数相乘或是返回一个被重复若干次的字符串\n",
    "/|除-x除以y\n",
    "%|取模-返回除法的余数\n",
    "**|幂-返回x的y次幂\n",
    "//|取整除-向下取接近商的整数\n",
    "\n",
    "2. 比较运算符\n",
    "\n",
    "运算符|描述\n",
    "--|--\n",
    "==|等于-比较对象是否相等\n",
    "!=|不等于-比较两个对象是否不相等\n",
    "\\>|大于-返回x是否大于y\n",
    "<|小于-返回x是否小于y。所有比较运算符返回1表示真，返回0表示假。这分别与特殊的变量True和False等价。注意，这些变量名的大写\n",
    "\\>=|大于等于-返回x是否大于等于y\n",
    "<=|小于等于-返回x是否小于等于y\n",
    "   \n",
    "3. 赋值运算符\n",
    "\n",
    "运算符|描述\n",
    "--|--\n",
    "=|简单的赋值运算符\n",
    "+=|加法赋值运算符\n",
    "-=|减法赋值运算符\n",
    "*=|乘法赋值运算符\n",
    "/=|除法赋值运算符\n",
    "%=|取模赋值运算符\n",
    "**=|幂赋值运算符\n",
    "//=|取整除赋值运算符\n",
    ":=|海象运算符，可在表达式内部为变量赋值(>=3.8)\n",
    "\n",
    "4. 位运算符\n",
    "   \n",
    "\n",
    "运算符|描述\n",
    "--|--\n",
    "&|按位与运算符：参与运算的两个值,如果两个相应位都为1,则该位的结果为1,否则为0\n",
    "||按位或运算符：只要对应的二个二进位有一个为1时，结果位就为1。\n",
    "^|按位异或运算符：当两对应的二进位相异时，结果为1\n",
    "~|按位取反运算符：对数据的每个二进制位取反,即把1变为0,把0变为1。~x 类似于 -x-1\n",
    "<<|左移动运算符：运算数的各二进位全部左移若干位，由\"<<\"右边的数指定移动的位数，高位丢弃，低位补0。\n",
    "\\>>|右移动运算符：把\">>\"左边的运算数的各二进位全部右移若干位，\">>\"右边的数指定移动的位数\n",
    "\n",
    "1. 逻辑运算符\n",
    "   \n",
    "运算符|逻辑表达式|描述|实例\n",
    "--|--|--|--\n",
    "and|x and y|布尔\"与\" - 如果 x 为 False，x and y 返回 x 的值，否则返回 y 的计算值。|(a and b) 返回 20。\n",
    "or|x or y|布尔\"或\" - 如果 x 是 True，它返回 x 的值，否则它返回 y 的计算值。|(a or b) 返回 10。\n",
    "not|not x|布尔\"非\" - 如果 x 为 True，返回 False 。如果 x 为 False，它返回 True。|not(a and b) 返回 False\n",
    "\n",
    "2. 成员运算符\n",
    "\n",
    "运算符|描述|实例\n",
    "--|--|--\n",
    "in|如果在指定的序列中找到值返回 True，否则返回 False。|x 在 y 序列中 , 如果 x 在 y 序列中返回 True。\n",
    "not in|如果在指定的序列中没有找到值返回 True，否则返回 False。|x 不在 y 序列中 , 如果 x 不在 y 序列中返回 True。\n",
    "\n",
    "3. 身份运算符\n",
    "\n",
    "运算符|描述|实例\n",
    "--|--|--\n",
    "is|is 是判断两个标识符是不是引用自一个对象|x is y, 类似 id(x) == id(y) , 如果引用的是同一个对象则返回 True，否则返回 False\n",
    "is not|is not 是判断两个标识符是不是引用自不同对象|x is not y ， 类似 id(x) != id(y)。如果引用的不是同一个对象则返回结果 True，否则返回 False。\n",
    "\n",
    "4. 运算符优先级\n",
    "\n",
    "运算符|描述\n",
    "--|--\n",
    "**|指数 (最高优先级)\n",
    "~ + -|按位翻转, 一元加号和减号 (最后两个的方法名为 +@ 和 -@)\n",
    "\\* / % //|乘，除，求余数和取整除\n",
    "\\+ -|加法减法\n",
    "\\>> <<|右移，左移运算符\n",
    "&|位 'AND'\n",
    "^ ||位运算符\n",
    "<= < > >=|比较运算符\n",
    "== !=|等于运算符\n",
    "= %= /= //= -= += *= **=|赋值运算符\n",
    "is is not|身份运算符\n",
    "in not in|成员运算符\n",
    "not and or|逻辑运算符\n"
   ]
  },
  {
   "cell_type": "markdown",
   "metadata": {},
   "source": [
    "# 程序样例 📖"
   ]
  },
  {
   "cell_type": "markdown",
   "metadata": {},
   "source": [
    "## ⛙字符串拼接，接收用户输入的两个字符串，将他们组合后输出"
   ]
  },
  {
   "cell_type": "code",
   "execution_count": 10,
   "metadata": {},
   "outputs": [
    {
     "name": "stdout",
     "output_type": "stream",
     "text": [
      "世界这么大，普京想去乌克兰看看.\n"
     ]
    }
   ],
   "source": [
    "str1 = input(\"请输入一个人的名字\")\n",
    "\n",
    "str2 = input(\"请输入一个国家的名字\")\n",
    "\n",
    "print(f\"世界这么大，{str1}想去{str2}看看.\")"
   ]
  },
  {
   "cell_type": "markdown",
   "metadata": {},
   "source": [
    "## ➕整数序列求和，用户输入一个整数N,计算机从1到N（包含1和N）加之后的结果"
   ]
  },
  {
   "cell_type": "code",
   "execution_count": 4,
   "metadata": {},
   "outputs": [
    {
     "name": "stdout",
     "output_type": "stream",
     "text": [
      "1到N求和结果： 10\n"
     ]
    }
   ],
   "source": [
    "n = input(\"请输入整数N: \")\n",
    "sum = 0\n",
    "\n",
    "for i in range(int(n)):\n",
    "    sum += i + 1\n",
    "\n",
    "print(\"1到N求和结果：\",sum)"
   ]
  },
  {
   "cell_type": "markdown",
   "metadata": {},
   "source": [
    "## 📝九九乘法表输出，工整打印输出常用的九九乘法表，格式不限"
   ]
  },
  {
   "cell_type": "code",
   "execution_count": 7,
   "metadata": {},
   "outputs": [
    {
     "name": "stdout",
     "output_type": "stream",
     "text": [
      "1+1= 2\t\n",
      "1+2= 3\t2+2= 4\t\n",
      "1+3= 4\t2+3= 5\t3+3= 6\t\n",
      "1+4= 5\t2+4= 6\t3+4= 7\t4+4= 8\t\n",
      "1+5= 6\t2+5= 7\t3+5= 8\t4+5= 9\t5+5=10\t\n",
      "1+6= 7\t2+6= 8\t3+6= 9\t4+6=10\t5+6=11\t6+6=12\t\n",
      "1+7= 8\t2+7= 9\t3+7=10\t4+7=11\t5+7=12\t6+7=13\t7+7=14\t\n",
      "1+8= 9\t2+8=10\t3+8=11\t4+8=12\t5+8=13\t6+8=14\t7+8=15\t8+8=16\t\n",
      "1+9=10\t2+9=11\t3+9=12\t4+9=13\t5+9=14\t6+9=15\t7+9=16\t8+9=17\t9+9=18\t\n"
     ]
    }
   ],
   "source": [
    "for i in range(1, 10):\n",
    "    for j in range(1, i+1):\n",
    "        print(\"{}+{}={:2}\\t\".format(j, i, i+j), end=\"\")\n",
    "    print(\"\")"
   ]
  },
  {
   "cell_type": "markdown",
   "metadata": {},
   "source": [
    "## ✨计算 `1!+2!+3!+...+10!` 的结果"
   ]
  },
  {
   "cell_type": "code",
   "execution_count": 10,
   "metadata": {},
   "outputs": [
    {
     "name": "stdout",
     "output_type": "stream",
     "text": [
      "运行结果是：230\n"
     ]
    }
   ],
   "source": [
    "sum, tmp = 0, 1\n",
    "for i in range(1, 11):\n",
    "    tmp += i\n",
    "    sum += tmp\n",
    "print(\"运行结果是：{}\".format(sum))"
   ]
  },
  {
   "cell_type": "markdown",
   "metadata": {},
   "source": [
    "猴子吃桃问题：猴子第一提哪摘下若干个桃子，当即吃了一半，还不过瘾，又多吃了一个；第二天早上又将剩下的吃掉一半，又多吃了一个。以后每天早上都吃了前一天剩下的一半多一个。到第五天早上想再吃时，见只剩下一个桃子了。请编写程序计算猴子第一天共摘下了多少桃子。"
   ]
  },
  {
   "cell_type": "code",
   "execution_count": 11,
   "metadata": {},
   "outputs": [
    {
     "name": "stdout",
     "output_type": "stream",
     "text": [
      "46\n"
     ]
    }
   ],
   "source": [
    "n = 1\n",
    "for i in range(4, 0, -1):\n",
    "    n = (n+1) << 1\n",
    "print(n)"
   ]
  },
  {
   "cell_type": "markdown",
   "metadata": {},
   "source": [
    "## 📋健康食谱输出。列出5种不同的食材，输出他们可能组成的所有菜式名称"
   ]
  },
  {
   "cell_type": "code",
   "execution_count": 13,
   "metadata": {},
   "outputs": [
    {
     "name": "stdout",
     "output_type": "stream",
     "text": [
      "西红柿,花椰菜\n",
      "西红柿,黄瓜\n",
      "西红柿,牛排\n",
      "西红柿,虾仁\n",
      "花椰菜,西红柿\n",
      "花椰菜,黄瓜\n",
      "花椰菜,牛排\n",
      "花椰菜,虾仁\n",
      "黄瓜,西红柿\n",
      "黄瓜,花椰菜\n",
      "黄瓜,牛排\n",
      "黄瓜,虾仁\n",
      "牛排,西红柿\n",
      "牛排,花椰菜\n",
      "牛排,黄瓜\n",
      "牛排,虾仁\n",
      "虾仁,西红柿\n",
      "虾仁,花椰菜\n",
      "虾仁,黄瓜\n",
      "虾仁,牛排\n"
     ]
    }
   ],
   "source": [
    "diet = [\"西红柿\",\"花椰菜\",\"黄瓜\",\"牛排\",\"虾仁\"]\n",
    "for x in range(5):\n",
    "    for y in range(5):\n",
    "        if not(x == y):\n",
    "            print(f\"{diet[x]},{diet[y]}\")"
   ]
  },
  {
   "cell_type": "markdown",
   "metadata": {},
   "source": [
    "## ⭐五角星的绘制：绘制一个红色的五角星图形"
   ]
  },
  {
   "cell_type": "code",
   "execution_count": 4,
   "metadata": {},
   "outputs": [],
   "source": [
    "from turtle import *\n",
    "fillcolor(\"red\")\n",
    "begin_fill()\n",
    "while True:\n",
    "    forward(200)\n",
    "    right(144)\n",
    "    if abs(pos()) < 1:\n",
    "        break\n",
    "end_fill()\n",
    "done()"
   ]
  },
  {
   "cell_type": "markdown",
   "metadata": {},
   "source": [
    "## ☀️太阳花的绘制：绘制一个太阳花的图形"
   ]
  },
  {
   "cell_type": "code",
   "execution_count": 2,
   "metadata": {},
   "outputs": [],
   "source": [
    "from turtle import *\n",
    "color(\"red\", \"yellow\")\n",
    "begin_fill()\n",
    "while True:\n",
    "    forward(200)\n",
    "    left(170)\n",
    "    if abs(pos()) < 1:\n",
    "        break\n",
    "end_fill()\n",
    "done()"
   ]
  },
  {
   "cell_type": "markdown",
   "metadata": {},
   "source": [
    "# 练习 ✍️"
   ]
  },
  {
   "cell_type": "markdown",
   "metadata": {},
   "source": [
    "## 根据输入计算相应的值 🖩"
   ]
  },
  {
   "cell_type": "code",
   "execution_count": 1,
   "metadata": {},
   "outputs": [
    {
     "name": "stdout",
     "output_type": "stream",
     "text": [
      "周长：38.955748904513435, 面积：120.76282160399167, 体积：998.3059919263311\n"
     ]
    }
   ],
   "source": [
    "import math\n",
    "\n",
    "a = float(input(\"输入半径\"))\n",
    "\n",
    "print(\"周长：{}, 面积：{}, 体积：{}\".format(2*math.pi*a, math.pi*a**2, math.pi*a**3*4/3))"
   ]
  },
  {
   "cell_type": "markdown",
   "metadata": {},
   "source": [
    "## 🔺根据斜边和直角边的长度求对应角的三角形函数值"
   ]
  },
  {
   "cell_type": "code",
   "execution_count": 11,
   "metadata": {},
   "outputs": [
    {
     "name": "stdout",
     "output_type": "stream",
     "text": [
      "正弦值：0.6, 余弦值：0.6, 正切值：0.75\n"
     ]
    }
   ],
   "source": [
    "tilt = float(input(\"请输入斜边长度\"))\n",
    "tri = float(input(\"请输入直角边长度\"))\n",
    "\n",
    "tria = (tilt**2-tri**2)**0.5\n",
    "\n",
    "print(f\"正弦值：{tri/tilt}, 余弦值：{tri/tilt}, 正切值：{tria/tri if tria < tri else tri/tria }\")"
   ]
  },
  {
   "cell_type": "markdown",
   "metadata": {},
   "source": [
    "## 🔻计算三角形面积"
   ]
  },
  {
   "cell_type": "code",
   "execution_count": 9,
   "metadata": {},
   "outputs": [
    {
     "name": "stdout",
     "output_type": "stream",
     "text": [
      "三角形的面积为：6.0\n"
     ]
    }
   ],
   "source": [
    "x = float(input(\"输入第一条边的长度:\"))\n",
    "y = float(input(\"输入第二条边的长度:\"))\n",
    "z = float(input(\"输入第三条边的长度:\"))\n",
    "\n",
    "q = (x+y+z)/2\n",
    "\n",
    "print(f\"三角形的面积为：{(q*(q-x)*(q-y)*(q-z))**0.5}\")"
   ]
  }
 ],
 "metadata": {
  "interpreter": {
   "hash": "767d51c1340bd893661ea55ea3124f6de3c7a262a8b4abca0554b478b1e2ff90"
  },
  "kernelspec": {
   "display_name": "Python 3.10.2 64-bit",
   "language": "python",
   "name": "python3"
  },
  "language_info": {
   "codemirror_mode": {
    "name": "ipython",
    "version": 3
   },
   "file_extension": ".py",
   "mimetype": "text/x-python",
   "name": "python",
   "nbconvert_exporter": "python",
   "pygments_lexer": "ipython3",
   "version": "3.10.2"
  },
  "orig_nbformat": 4
 },
 "nbformat": 4,
 "nbformat_minor": 2
}
